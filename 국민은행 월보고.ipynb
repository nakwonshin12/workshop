{
 "cells": [
  {
   "cell_type": "markdown",
   "metadata": {},
   "source": [
    "이용 건수는 중복값을 처리해서 계산하면 안된다.\n",
    "-> 해당월의 총 이용건수를 봐야하기 때문에.\n",
    "\n",
    "이용인원만 중복값을 처리한 후 계산한다. \n"
   ]
  },
  {
   "cell_type": "markdown",
   "metadata": {},
   "source": [
    "# 1, 엑셀 데이터 통합하기 \n",
    "## 받아야하는 데이터\n",
    "### 1. 일반+위기\n",
    "### 2. 상주\n",
    "### 3. 고위험군\n",
    "### 4. 특별개임 프로그램\n"
   ]
  },
  {
   "cell_type": "code",
   "execution_count": 4,
   "metadata": {},
   "outputs": [
    {
     "ename": "ValueError",
     "evalue": "File is not a recognized excel file",
     "output_type": "error",
     "traceback": [
      "\u001b[1;31m---------------------------------------------------------------------------\u001b[0m",
      "\u001b[1;31mValueError\u001b[0m                                Traceback (most recent call last)",
      "\u001b[1;32m<ipython-input-4-c6b80dd01ce7>\u001b[0m in \u001b[0;36m<module>\u001b[1;34m\u001b[0m\n\u001b[1;32m----> 1\u001b[1;33m \u001b[0mdf\u001b[0m \u001b[1;33m=\u001b[0m \u001b[0mpd\u001b[0m\u001b[1;33m.\u001b[0m\u001b[0mread_excel\u001b[0m\u001b[1;33m(\u001b[0m\u001b[1;34m\"C:\\workshop\\data\\고객사 직원 상담 리스트.xls\"\u001b[0m\u001b[1;33m,\u001b[0m \u001b[0mheader\u001b[0m \u001b[1;33m=\u001b[0m \u001b[1;36m1\u001b[0m\u001b[1;33m)\u001b[0m\u001b[1;33m\u001b[0m\u001b[1;33m\u001b[0m\u001b[0m\n\u001b[0m\u001b[0;32m      2\u001b[0m \u001b[0mdf\u001b[0m\u001b[1;33m\u001b[0m\u001b[1;33m\u001b[0m\u001b[0m\n",
      "\u001b[1;32m~\\Anaconda3\\lib\\site-packages\\pandas\\util\\_decorators.py\u001b[0m in \u001b[0;36mwrapper\u001b[1;34m(*args, **kwargs)\u001b[0m\n\u001b[0;32m    297\u001b[0m                 )\n\u001b[0;32m    298\u001b[0m                 \u001b[0mwarnings\u001b[0m\u001b[1;33m.\u001b[0m\u001b[0mwarn\u001b[0m\u001b[1;33m(\u001b[0m\u001b[0mmsg\u001b[0m\u001b[1;33m,\u001b[0m \u001b[0mFutureWarning\u001b[0m\u001b[1;33m,\u001b[0m \u001b[0mstacklevel\u001b[0m\u001b[1;33m=\u001b[0m\u001b[0mstacklevel\u001b[0m\u001b[1;33m)\u001b[0m\u001b[1;33m\u001b[0m\u001b[1;33m\u001b[0m\u001b[0m\n\u001b[1;32m--> 299\u001b[1;33m             \u001b[1;32mreturn\u001b[0m \u001b[0mfunc\u001b[0m\u001b[1;33m(\u001b[0m\u001b[1;33m*\u001b[0m\u001b[0margs\u001b[0m\u001b[1;33m,\u001b[0m \u001b[1;33m**\u001b[0m\u001b[0mkwargs\u001b[0m\u001b[1;33m)\u001b[0m\u001b[1;33m\u001b[0m\u001b[1;33m\u001b[0m\u001b[0m\n\u001b[0m\u001b[0;32m    300\u001b[0m \u001b[1;33m\u001b[0m\u001b[0m\n\u001b[0;32m    301\u001b[0m         \u001b[1;32mreturn\u001b[0m \u001b[0mwrapper\u001b[0m\u001b[1;33m\u001b[0m\u001b[1;33m\u001b[0m\u001b[0m\n",
      "\u001b[1;32m~\\Anaconda3\\lib\\site-packages\\pandas\\io\\excel\\_base.py\u001b[0m in \u001b[0;36mread_excel\u001b[1;34m(io, sheet_name, header, names, index_col, usecols, squeeze, dtype, engine, converters, true_values, false_values, skiprows, nrows, na_values, keep_default_na, na_filter, verbose, parse_dates, date_parser, thousands, comment, skipfooter, convert_float, mangle_dupe_cols, storage_options)\u001b[0m\n\u001b[0;32m    334\u001b[0m     \u001b[1;32mif\u001b[0m \u001b[1;32mnot\u001b[0m \u001b[0misinstance\u001b[0m\u001b[1;33m(\u001b[0m\u001b[0mio\u001b[0m\u001b[1;33m,\u001b[0m \u001b[0mExcelFile\u001b[0m\u001b[1;33m)\u001b[0m\u001b[1;33m:\u001b[0m\u001b[1;33m\u001b[0m\u001b[1;33m\u001b[0m\u001b[0m\n\u001b[0;32m    335\u001b[0m         \u001b[0mshould_close\u001b[0m \u001b[1;33m=\u001b[0m \u001b[1;32mTrue\u001b[0m\u001b[1;33m\u001b[0m\u001b[1;33m\u001b[0m\u001b[0m\n\u001b[1;32m--> 336\u001b[1;33m         \u001b[0mio\u001b[0m \u001b[1;33m=\u001b[0m \u001b[0mExcelFile\u001b[0m\u001b[1;33m(\u001b[0m\u001b[0mio\u001b[0m\u001b[1;33m,\u001b[0m \u001b[0mstorage_options\u001b[0m\u001b[1;33m=\u001b[0m\u001b[0mstorage_options\u001b[0m\u001b[1;33m,\u001b[0m \u001b[0mengine\u001b[0m\u001b[1;33m=\u001b[0m\u001b[0mengine\u001b[0m\u001b[1;33m)\u001b[0m\u001b[1;33m\u001b[0m\u001b[1;33m\u001b[0m\u001b[0m\n\u001b[0m\u001b[0;32m    337\u001b[0m     \u001b[1;32melif\u001b[0m \u001b[0mengine\u001b[0m \u001b[1;32mand\u001b[0m \u001b[0mengine\u001b[0m \u001b[1;33m!=\u001b[0m \u001b[0mio\u001b[0m\u001b[1;33m.\u001b[0m\u001b[0mengine\u001b[0m\u001b[1;33m:\u001b[0m\u001b[1;33m\u001b[0m\u001b[1;33m\u001b[0m\u001b[0m\n\u001b[0;32m    338\u001b[0m         raise ValueError(\n",
      "\u001b[1;32m~\\Anaconda3\\lib\\site-packages\\pandas\\io\\excel\\_base.py\u001b[0m in \u001b[0;36m__init__\u001b[1;34m(self, path_or_buffer, engine, storage_options)\u001b[0m\n\u001b[0;32m   1069\u001b[0m                 \u001b[0mext\u001b[0m \u001b[1;33m=\u001b[0m \u001b[1;34m\"xls\"\u001b[0m\u001b[1;33m\u001b[0m\u001b[1;33m\u001b[0m\u001b[0m\n\u001b[0;32m   1070\u001b[0m             \u001b[1;32melse\u001b[0m\u001b[1;33m:\u001b[0m\u001b[1;33m\u001b[0m\u001b[1;33m\u001b[0m\u001b[0m\n\u001b[1;32m-> 1071\u001b[1;33m                 ext = inspect_excel_format(\n\u001b[0m\u001b[0;32m   1072\u001b[0m                     \u001b[0mcontent\u001b[0m\u001b[1;33m=\u001b[0m\u001b[0mpath_or_buffer\u001b[0m\u001b[1;33m,\u001b[0m \u001b[0mstorage_options\u001b[0m\u001b[1;33m=\u001b[0m\u001b[0mstorage_options\u001b[0m\u001b[1;33m\u001b[0m\u001b[1;33m\u001b[0m\u001b[0m\n\u001b[0;32m   1073\u001b[0m                 )\n",
      "\u001b[1;32m~\\Anaconda3\\lib\\site-packages\\pandas\\io\\excel\\_base.py\u001b[0m in \u001b[0;36minspect_excel_format\u001b[1;34m(path, content, storage_options)\u001b[0m\n\u001b[0;32m    963\u001b[0m             \u001b[1;32mreturn\u001b[0m \u001b[1;34m\"xls\"\u001b[0m\u001b[1;33m\u001b[0m\u001b[1;33m\u001b[0m\u001b[0m\n\u001b[0;32m    964\u001b[0m         \u001b[1;32melif\u001b[0m \u001b[1;32mnot\u001b[0m \u001b[0mpeek\u001b[0m\u001b[1;33m.\u001b[0m\u001b[0mstartswith\u001b[0m\u001b[1;33m(\u001b[0m\u001b[0mZIP_SIGNATURE\u001b[0m\u001b[1;33m)\u001b[0m\u001b[1;33m:\u001b[0m\u001b[1;33m\u001b[0m\u001b[1;33m\u001b[0m\u001b[0m\n\u001b[1;32m--> 965\u001b[1;33m             \u001b[1;32mraise\u001b[0m \u001b[0mValueError\u001b[0m\u001b[1;33m(\u001b[0m\u001b[1;34m\"File is not a recognized excel file\"\u001b[0m\u001b[1;33m)\u001b[0m\u001b[1;33m\u001b[0m\u001b[1;33m\u001b[0m\u001b[0m\n\u001b[0m\u001b[0;32m    966\u001b[0m \u001b[1;33m\u001b[0m\u001b[0m\n\u001b[0;32m    967\u001b[0m         \u001b[1;31m# ZipFile typing is overly-strict\u001b[0m\u001b[1;33m\u001b[0m\u001b[1;33m\u001b[0m\u001b[1;33m\u001b[0m\u001b[0m\n",
      "\u001b[1;31mValueError\u001b[0m: File is not a recognized excel file"
     ]
    }
   ],
   "source": [
    "df = pd.read_excel(\"C:\\workshop\\data\\고객사 직원 상담 리스트.xls\", header = 1)\n",
    "df"
   ]
  },
  {
   "cell_type": "code",
   "execution_count": 5,
   "metadata": {},
   "outputs": [
    {
     "ename": "ValueError",
     "evalue": "File is not a recognized excel file",
     "output_type": "error",
     "traceback": [
      "\u001b[1;31m---------------------------------------------------------------------------\u001b[0m",
      "\u001b[1;31mValueError\u001b[0m                                Traceback (most recent call last)",
      "\u001b[1;32m<ipython-input-5-e03ad6f7a0e0>\u001b[0m in \u001b[0;36m<module>\u001b[1;34m\u001b[0m\n\u001b[0;32m      9\u001b[0m \u001b[0mdf_연계\u001b[0m \u001b[1;33m=\u001b[0m \u001b[0mdf_일반\u001b[0m\u001b[1;33m\u001b[0m\u001b[1;33m\u001b[0m\u001b[0m\n\u001b[0;32m     10\u001b[0m \u001b[1;33m\u001b[0m\u001b[0m\n\u001b[1;32m---> 11\u001b[1;33m \u001b[0mdf_상주_서울\u001b[0m \u001b[1;33m=\u001b[0m \u001b[0mpd\u001b[0m\u001b[1;33m.\u001b[0m\u001b[0mread_excel\u001b[0m\u001b[1;33m(\u001b[0m\u001b[1;34m\"C:\\workshop\\data\\국민은행_상주_서울_1월.xlsx\"\u001b[0m\u001b[1;33m,\u001b[0m \u001b[0mheader\u001b[0m \u001b[1;33m=\u001b[0m \u001b[1;36m1\u001b[0m\u001b[1;33m)\u001b[0m\u001b[1;33m\u001b[0m\u001b[1;33m\u001b[0m\u001b[0m\n\u001b[0m\u001b[0;32m     12\u001b[0m \u001b[0mdf_상주_대전\u001b[0m \u001b[1;33m=\u001b[0m \u001b[0mpd\u001b[0m\u001b[1;33m.\u001b[0m\u001b[0mread_excel\u001b[0m\u001b[1;33m(\u001b[0m\u001b[1;34m\"C:\\workshop\\data\\국민은행_상주 대전_1월.xlsx\"\u001b[0m\u001b[1;33m,\u001b[0m \u001b[0mheader\u001b[0m \u001b[1;33m=\u001b[0m \u001b[1;36m1\u001b[0m\u001b[1;33m)\u001b[0m\u001b[1;33m\u001b[0m\u001b[1;33m\u001b[0m\u001b[0m\n\u001b[0;32m     13\u001b[0m \u001b[1;31m# df_고위험군 = pd.read_excel(\"C:\\workshop\\data\\\", header = 1)\u001b[0m\u001b[1;33m\u001b[0m\u001b[1;33m\u001b[0m\u001b[1;33m\u001b[0m\u001b[0m\n",
      "\u001b[1;32m~\\Anaconda3\\lib\\site-packages\\pandas\\util\\_decorators.py\u001b[0m in \u001b[0;36mwrapper\u001b[1;34m(*args, **kwargs)\u001b[0m\n\u001b[0;32m    297\u001b[0m                 )\n\u001b[0;32m    298\u001b[0m                 \u001b[0mwarnings\u001b[0m\u001b[1;33m.\u001b[0m\u001b[0mwarn\u001b[0m\u001b[1;33m(\u001b[0m\u001b[0mmsg\u001b[0m\u001b[1;33m,\u001b[0m \u001b[0mFutureWarning\u001b[0m\u001b[1;33m,\u001b[0m \u001b[0mstacklevel\u001b[0m\u001b[1;33m=\u001b[0m\u001b[0mstacklevel\u001b[0m\u001b[1;33m)\u001b[0m\u001b[1;33m\u001b[0m\u001b[1;33m\u001b[0m\u001b[0m\n\u001b[1;32m--> 299\u001b[1;33m             \u001b[1;32mreturn\u001b[0m \u001b[0mfunc\u001b[0m\u001b[1;33m(\u001b[0m\u001b[1;33m*\u001b[0m\u001b[0margs\u001b[0m\u001b[1;33m,\u001b[0m \u001b[1;33m**\u001b[0m\u001b[0mkwargs\u001b[0m\u001b[1;33m)\u001b[0m\u001b[1;33m\u001b[0m\u001b[1;33m\u001b[0m\u001b[0m\n\u001b[0m\u001b[0;32m    300\u001b[0m \u001b[1;33m\u001b[0m\u001b[0m\n\u001b[0;32m    301\u001b[0m         \u001b[1;32mreturn\u001b[0m \u001b[0mwrapper\u001b[0m\u001b[1;33m\u001b[0m\u001b[1;33m\u001b[0m\u001b[0m\n",
      "\u001b[1;32m~\\Anaconda3\\lib\\site-packages\\pandas\\io\\excel\\_base.py\u001b[0m in \u001b[0;36mread_excel\u001b[1;34m(io, sheet_name, header, names, index_col, usecols, squeeze, dtype, engine, converters, true_values, false_values, skiprows, nrows, na_values, keep_default_na, na_filter, verbose, parse_dates, date_parser, thousands, comment, skipfooter, convert_float, mangle_dupe_cols, storage_options)\u001b[0m\n\u001b[0;32m    334\u001b[0m     \u001b[1;32mif\u001b[0m \u001b[1;32mnot\u001b[0m \u001b[0misinstance\u001b[0m\u001b[1;33m(\u001b[0m\u001b[0mio\u001b[0m\u001b[1;33m,\u001b[0m \u001b[0mExcelFile\u001b[0m\u001b[1;33m)\u001b[0m\u001b[1;33m:\u001b[0m\u001b[1;33m\u001b[0m\u001b[1;33m\u001b[0m\u001b[0m\n\u001b[0;32m    335\u001b[0m         \u001b[0mshould_close\u001b[0m \u001b[1;33m=\u001b[0m \u001b[1;32mTrue\u001b[0m\u001b[1;33m\u001b[0m\u001b[1;33m\u001b[0m\u001b[0m\n\u001b[1;32m--> 336\u001b[1;33m         \u001b[0mio\u001b[0m \u001b[1;33m=\u001b[0m \u001b[0mExcelFile\u001b[0m\u001b[1;33m(\u001b[0m\u001b[0mio\u001b[0m\u001b[1;33m,\u001b[0m \u001b[0mstorage_options\u001b[0m\u001b[1;33m=\u001b[0m\u001b[0mstorage_options\u001b[0m\u001b[1;33m,\u001b[0m \u001b[0mengine\u001b[0m\u001b[1;33m=\u001b[0m\u001b[0mengine\u001b[0m\u001b[1;33m)\u001b[0m\u001b[1;33m\u001b[0m\u001b[1;33m\u001b[0m\u001b[0m\n\u001b[0m\u001b[0;32m    337\u001b[0m     \u001b[1;32melif\u001b[0m \u001b[0mengine\u001b[0m \u001b[1;32mand\u001b[0m \u001b[0mengine\u001b[0m \u001b[1;33m!=\u001b[0m \u001b[0mio\u001b[0m\u001b[1;33m.\u001b[0m\u001b[0mengine\u001b[0m\u001b[1;33m:\u001b[0m\u001b[1;33m\u001b[0m\u001b[1;33m\u001b[0m\u001b[0m\n\u001b[0;32m    338\u001b[0m         raise ValueError(\n",
      "\u001b[1;32m~\\Anaconda3\\lib\\site-packages\\pandas\\io\\excel\\_base.py\u001b[0m in \u001b[0;36m__init__\u001b[1;34m(self, path_or_buffer, engine, storage_options)\u001b[0m\n\u001b[0;32m   1069\u001b[0m                 \u001b[0mext\u001b[0m \u001b[1;33m=\u001b[0m \u001b[1;34m\"xls\"\u001b[0m\u001b[1;33m\u001b[0m\u001b[1;33m\u001b[0m\u001b[0m\n\u001b[0;32m   1070\u001b[0m             \u001b[1;32melse\u001b[0m\u001b[1;33m:\u001b[0m\u001b[1;33m\u001b[0m\u001b[1;33m\u001b[0m\u001b[0m\n\u001b[1;32m-> 1071\u001b[1;33m                 ext = inspect_excel_format(\n\u001b[0m\u001b[0;32m   1072\u001b[0m                     \u001b[0mcontent\u001b[0m\u001b[1;33m=\u001b[0m\u001b[0mpath_or_buffer\u001b[0m\u001b[1;33m,\u001b[0m \u001b[0mstorage_options\u001b[0m\u001b[1;33m=\u001b[0m\u001b[0mstorage_options\u001b[0m\u001b[1;33m\u001b[0m\u001b[1;33m\u001b[0m\u001b[0m\n\u001b[0;32m   1073\u001b[0m                 )\n",
      "\u001b[1;32m~\\Anaconda3\\lib\\site-packages\\pandas\\io\\excel\\_base.py\u001b[0m in \u001b[0;36minspect_excel_format\u001b[1;34m(path, content, storage_options)\u001b[0m\n\u001b[0;32m    963\u001b[0m             \u001b[1;32mreturn\u001b[0m \u001b[1;34m\"xls\"\u001b[0m\u001b[1;33m\u001b[0m\u001b[1;33m\u001b[0m\u001b[0m\n\u001b[0;32m    964\u001b[0m         \u001b[1;32melif\u001b[0m \u001b[1;32mnot\u001b[0m \u001b[0mpeek\u001b[0m\u001b[1;33m.\u001b[0m\u001b[0mstartswith\u001b[0m\u001b[1;33m(\u001b[0m\u001b[0mZIP_SIGNATURE\u001b[0m\u001b[1;33m)\u001b[0m\u001b[1;33m:\u001b[0m\u001b[1;33m\u001b[0m\u001b[1;33m\u001b[0m\u001b[0m\n\u001b[1;32m--> 965\u001b[1;33m             \u001b[1;32mraise\u001b[0m \u001b[0mValueError\u001b[0m\u001b[1;33m(\u001b[0m\u001b[1;34m\"File is not a recognized excel file\"\u001b[0m\u001b[1;33m)\u001b[0m\u001b[1;33m\u001b[0m\u001b[1;33m\u001b[0m\u001b[0m\n\u001b[0m\u001b[0;32m    966\u001b[0m \u001b[1;33m\u001b[0m\u001b[0m\n\u001b[0;32m    967\u001b[0m         \u001b[1;31m# ZipFile typing is overly-strict\u001b[0m\u001b[1;33m\u001b[0m\u001b[1;33m\u001b[0m\u001b[1;33m\u001b[0m\u001b[0m\n",
      "\u001b[1;31mValueError\u001b[0m: File is not a recognized excel file"
     ]
    }
   ],
   "source": [
    "import openpyxl\n",
    "import pandas as pd\n",
    "import numpy as np\n",
    "\n",
    "#데이터 프레임 만들기\n",
    "df_일반 = pd.read_excel(\"C:\\workshop\\data\\국민은행 일반_1월 데이터.xlsx\", header = 1)\n",
    "# df_위기 = pd.read_excel(\"C:\\workshop\\data\\\", header = 1)\n",
    "# df_연계 = pd.concat([df_일반, df_위기])                     \n",
    "df_연계 = df_일반\n",
    "\n",
    "df_상주_서울 = pd.read_excel(\"C:\\workshop\\data\\국민은행_상주_서울_1월.xlsx\", header = 1)\n",
    "df_상주_대전 = pd.read_excel(\"C:\\workshop\\data\\국민은행_상주 대전_1월.xlsx\", header = 1)             \n",
    "# df_고위험군 = pd.read_excel(\"C:\\workshop\\data\\\", header = 1)\n",
    "# df_특별개입 = pd.read_excel(\"C:\\workshop\\data\\\", header = 1)\n",
    "                        \n",
    "#모든 데이터 합치기                         \n",
    "# df_og = pd.concat([df_일반, df_위기, df_상주_서울, df_상주_대전, df_고위험군, df_특별개입])\n",
    "df_og = pd.concat([df_일반, df_상주_서울, df_상주_대전])                      "
   ]
  },
  {
   "cell_type": "code",
   "execution_count": 9,
   "metadata": {},
   "outputs": [
    {
     "ename": "KeyError",
     "evalue": "\"Passing list-likes to .loc or [] with any missing labels is no longer supported. The following labels were missing: Index(['급수'], dtype='object'). See https://pandas.pydata.org/pandas-docs/stable/user_guide/indexing.html#deprecate-loc-reindex-listlike\"",
     "output_type": "error",
     "traceback": [
      "\u001b[1;31m---------------------------------------------------------------------------\u001b[0m",
      "\u001b[1;31mKeyError\u001b[0m                                  Traceback (most recent call last)",
      "\u001b[1;32m<ipython-input-9-e109ad86b7d7>\u001b[0m in \u001b[0;36m<module>\u001b[1;34m\u001b[0m\n\u001b[0;32m      7\u001b[0m \u001b[1;33m\u001b[0m\u001b[0m\n\u001b[0;32m      8\u001b[0m \u001b[1;32mfor\u001b[0m \u001b[0mdf_ex\u001b[0m \u001b[1;32min\u001b[0m \u001b[0mdf_list\u001b[0m\u001b[1;33m:\u001b[0m\u001b[1;33m\u001b[0m\u001b[1;33m\u001b[0m\u001b[0m\n\u001b[1;32m----> 9\u001b[1;33m     df_ex = df_ex.loc[:,['내담자명', '전화번호', '상담신청경로', '상담주제','상담분야','상담이용대상', '성별', '연령', \n\u001b[0m\u001b[0;32m     10\u001b[0m                      \u001b[1;34m'직위'\u001b[0m\u001b[1;33m,\u001b[0m\u001b[1;34m'지역'\u001b[0m\u001b[1;33m,\u001b[0m \u001b[1;34m'효과성 검사 위험도 수준'\u001b[0m\u001b[1;33m,\u001b[0m \u001b[1;34m'참석동반자'\u001b[0m\u001b[1;33m,\u001b[0m\u001b[1;34m'상담방법'\u001b[0m\u001b[1;33m,\u001b[0m \u001b[1;34m'상담목표'\u001b[0m\u001b[1;33m,\u001b[0m\u001b[1;34m'상담사'\u001b[0m\u001b[1;33m,\u001b[0m \u001b[1;34m'상담내용'\u001b[0m\u001b[1;33m,\u001b[0m\u001b[1;33m\u001b[0m\u001b[1;33m\u001b[0m\u001b[0m\n\u001b[0;32m     11\u001b[0m                      \u001b[1;34m'상담회차'\u001b[0m\u001b[1;33m,\u001b[0m\u001b[1;34m'상담날짜'\u001b[0m\u001b[1;33m,\u001b[0m\u001b[1;34m'상담시작시간'\u001b[0m\u001b[1;33m,\u001b[0m\u001b[1;34m'상담종료시간'\u001b[0m\u001b[1;33m,\u001b[0m\u001b[1;34m'진행시간'\u001b[0m\u001b[1;33m,\u001b[0m\u001b[1;34m'참석여부'\u001b[0m\u001b[1;33m,\u001b[0m \u001b[1;34m'상담일지등록일'\u001b[0m\u001b[1;33m,\u001b[0m\u001b[1;33m\u001b[0m\u001b[1;33m\u001b[0m\u001b[0m\n",
      "\u001b[1;32m~\\Anaconda3\\lib\\site-packages\\pandas\\core\\indexing.py\u001b[0m in \u001b[0;36m__getitem__\u001b[1;34m(self, key)\u001b[0m\n\u001b[0;32m    887\u001b[0m                     \u001b[1;31m# AttributeError for IntervalTree get_value\u001b[0m\u001b[1;33m\u001b[0m\u001b[1;33m\u001b[0m\u001b[1;33m\u001b[0m\u001b[0m\n\u001b[0;32m    888\u001b[0m                     \u001b[1;32mreturn\u001b[0m \u001b[0mself\u001b[0m\u001b[1;33m.\u001b[0m\u001b[0mobj\u001b[0m\u001b[1;33m.\u001b[0m\u001b[0m_get_value\u001b[0m\u001b[1;33m(\u001b[0m\u001b[1;33m*\u001b[0m\u001b[0mkey\u001b[0m\u001b[1;33m,\u001b[0m \u001b[0mtakeable\u001b[0m\u001b[1;33m=\u001b[0m\u001b[0mself\u001b[0m\u001b[1;33m.\u001b[0m\u001b[0m_takeable\u001b[0m\u001b[1;33m)\u001b[0m\u001b[1;33m\u001b[0m\u001b[1;33m\u001b[0m\u001b[0m\n\u001b[1;32m--> 889\u001b[1;33m             \u001b[1;32mreturn\u001b[0m \u001b[0mself\u001b[0m\u001b[1;33m.\u001b[0m\u001b[0m_getitem_tuple\u001b[0m\u001b[1;33m(\u001b[0m\u001b[0mkey\u001b[0m\u001b[1;33m)\u001b[0m\u001b[1;33m\u001b[0m\u001b[1;33m\u001b[0m\u001b[0m\n\u001b[0m\u001b[0;32m    890\u001b[0m         \u001b[1;32melse\u001b[0m\u001b[1;33m:\u001b[0m\u001b[1;33m\u001b[0m\u001b[1;33m\u001b[0m\u001b[0m\n\u001b[0;32m    891\u001b[0m             \u001b[1;31m# we by definition only have the 0th axis\u001b[0m\u001b[1;33m\u001b[0m\u001b[1;33m\u001b[0m\u001b[1;33m\u001b[0m\u001b[0m\n",
      "\u001b[1;32m~\\Anaconda3\\lib\\site-packages\\pandas\\core\\indexing.py\u001b[0m in \u001b[0;36m_getitem_tuple\u001b[1;34m(self, tup)\u001b[0m\n\u001b[0;32m   1067\u001b[0m             \u001b[1;32mreturn\u001b[0m \u001b[0mself\u001b[0m\u001b[1;33m.\u001b[0m\u001b[0m_multi_take\u001b[0m\u001b[1;33m(\u001b[0m\u001b[0mtup\u001b[0m\u001b[1;33m)\u001b[0m\u001b[1;33m\u001b[0m\u001b[1;33m\u001b[0m\u001b[0m\n\u001b[0;32m   1068\u001b[0m \u001b[1;33m\u001b[0m\u001b[0m\n\u001b[1;32m-> 1069\u001b[1;33m         \u001b[1;32mreturn\u001b[0m \u001b[0mself\u001b[0m\u001b[1;33m.\u001b[0m\u001b[0m_getitem_tuple_same_dim\u001b[0m\u001b[1;33m(\u001b[0m\u001b[0mtup\u001b[0m\u001b[1;33m)\u001b[0m\u001b[1;33m\u001b[0m\u001b[1;33m\u001b[0m\u001b[0m\n\u001b[0m\u001b[0;32m   1070\u001b[0m \u001b[1;33m\u001b[0m\u001b[0m\n\u001b[0;32m   1071\u001b[0m     \u001b[1;32mdef\u001b[0m \u001b[0m_get_label\u001b[0m\u001b[1;33m(\u001b[0m\u001b[0mself\u001b[0m\u001b[1;33m,\u001b[0m \u001b[0mlabel\u001b[0m\u001b[1;33m,\u001b[0m \u001b[0maxis\u001b[0m\u001b[1;33m:\u001b[0m \u001b[0mint\u001b[0m\u001b[1;33m)\u001b[0m\u001b[1;33m:\u001b[0m\u001b[1;33m\u001b[0m\u001b[1;33m\u001b[0m\u001b[0m\n",
      "\u001b[1;32m~\\Anaconda3\\lib\\site-packages\\pandas\\core\\indexing.py\u001b[0m in \u001b[0;36m_getitem_tuple_same_dim\u001b[1;34m(self, tup)\u001b[0m\n\u001b[0;32m    773\u001b[0m                 \u001b[1;32mcontinue\u001b[0m\u001b[1;33m\u001b[0m\u001b[1;33m\u001b[0m\u001b[0m\n\u001b[0;32m    774\u001b[0m \u001b[1;33m\u001b[0m\u001b[0m\n\u001b[1;32m--> 775\u001b[1;33m             \u001b[0mretval\u001b[0m \u001b[1;33m=\u001b[0m \u001b[0mgetattr\u001b[0m\u001b[1;33m(\u001b[0m\u001b[0mretval\u001b[0m\u001b[1;33m,\u001b[0m \u001b[0mself\u001b[0m\u001b[1;33m.\u001b[0m\u001b[0mname\u001b[0m\u001b[1;33m)\u001b[0m\u001b[1;33m.\u001b[0m\u001b[0m_getitem_axis\u001b[0m\u001b[1;33m(\u001b[0m\u001b[0mkey\u001b[0m\u001b[1;33m,\u001b[0m \u001b[0maxis\u001b[0m\u001b[1;33m=\u001b[0m\u001b[0mi\u001b[0m\u001b[1;33m)\u001b[0m\u001b[1;33m\u001b[0m\u001b[1;33m\u001b[0m\u001b[0m\n\u001b[0m\u001b[0;32m    776\u001b[0m             \u001b[1;31m# We should never have retval.ndim < self.ndim, as that should\u001b[0m\u001b[1;33m\u001b[0m\u001b[1;33m\u001b[0m\u001b[1;33m\u001b[0m\u001b[0m\n\u001b[0;32m    777\u001b[0m             \u001b[1;31m#  be handled by the _getitem_lowerdim call above.\u001b[0m\u001b[1;33m\u001b[0m\u001b[1;33m\u001b[0m\u001b[1;33m\u001b[0m\u001b[0m\n",
      "\u001b[1;32m~\\Anaconda3\\lib\\site-packages\\pandas\\core\\indexing.py\u001b[0m in \u001b[0;36m_getitem_axis\u001b[1;34m(self, key, axis)\u001b[0m\n\u001b[0;32m   1111\u001b[0m                     \u001b[1;32mraise\u001b[0m \u001b[0mValueError\u001b[0m\u001b[1;33m(\u001b[0m\u001b[1;34m\"Cannot index with multidimensional key\"\u001b[0m\u001b[1;33m)\u001b[0m\u001b[1;33m\u001b[0m\u001b[1;33m\u001b[0m\u001b[0m\n\u001b[0;32m   1112\u001b[0m \u001b[1;33m\u001b[0m\u001b[0m\n\u001b[1;32m-> 1113\u001b[1;33m                 \u001b[1;32mreturn\u001b[0m \u001b[0mself\u001b[0m\u001b[1;33m.\u001b[0m\u001b[0m_getitem_iterable\u001b[0m\u001b[1;33m(\u001b[0m\u001b[0mkey\u001b[0m\u001b[1;33m,\u001b[0m \u001b[0maxis\u001b[0m\u001b[1;33m=\u001b[0m\u001b[0maxis\u001b[0m\u001b[1;33m)\u001b[0m\u001b[1;33m\u001b[0m\u001b[1;33m\u001b[0m\u001b[0m\n\u001b[0m\u001b[0;32m   1114\u001b[0m \u001b[1;33m\u001b[0m\u001b[0m\n\u001b[0;32m   1115\u001b[0m             \u001b[1;31m# nested tuple slicing\u001b[0m\u001b[1;33m\u001b[0m\u001b[1;33m\u001b[0m\u001b[1;33m\u001b[0m\u001b[0m\n",
      "\u001b[1;32m~\\Anaconda3\\lib\\site-packages\\pandas\\core\\indexing.py\u001b[0m in \u001b[0;36m_getitem_iterable\u001b[1;34m(self, key, axis)\u001b[0m\n\u001b[0;32m   1051\u001b[0m \u001b[1;33m\u001b[0m\u001b[0m\n\u001b[0;32m   1052\u001b[0m         \u001b[1;31m# A collection of keys\u001b[0m\u001b[1;33m\u001b[0m\u001b[1;33m\u001b[0m\u001b[1;33m\u001b[0m\u001b[0m\n\u001b[1;32m-> 1053\u001b[1;33m         \u001b[0mkeyarr\u001b[0m\u001b[1;33m,\u001b[0m \u001b[0mindexer\u001b[0m \u001b[1;33m=\u001b[0m \u001b[0mself\u001b[0m\u001b[1;33m.\u001b[0m\u001b[0m_get_listlike_indexer\u001b[0m\u001b[1;33m(\u001b[0m\u001b[0mkey\u001b[0m\u001b[1;33m,\u001b[0m \u001b[0maxis\u001b[0m\u001b[1;33m,\u001b[0m \u001b[0mraise_missing\u001b[0m\u001b[1;33m=\u001b[0m\u001b[1;32mFalse\u001b[0m\u001b[1;33m)\u001b[0m\u001b[1;33m\u001b[0m\u001b[1;33m\u001b[0m\u001b[0m\n\u001b[0m\u001b[0;32m   1054\u001b[0m         return self.obj._reindex_with_indexers(\n\u001b[0;32m   1055\u001b[0m             \u001b[1;33m{\u001b[0m\u001b[0maxis\u001b[0m\u001b[1;33m:\u001b[0m \u001b[1;33m[\u001b[0m\u001b[0mkeyarr\u001b[0m\u001b[1;33m,\u001b[0m \u001b[0mindexer\u001b[0m\u001b[1;33m]\u001b[0m\u001b[1;33m}\u001b[0m\u001b[1;33m,\u001b[0m \u001b[0mcopy\u001b[0m\u001b[1;33m=\u001b[0m\u001b[1;32mTrue\u001b[0m\u001b[1;33m,\u001b[0m \u001b[0mallow_dups\u001b[0m\u001b[1;33m=\u001b[0m\u001b[1;32mTrue\u001b[0m\u001b[1;33m\u001b[0m\u001b[1;33m\u001b[0m\u001b[0m\n",
      "\u001b[1;32m~\\Anaconda3\\lib\\site-packages\\pandas\\core\\indexing.py\u001b[0m in \u001b[0;36m_get_listlike_indexer\u001b[1;34m(self, key, axis, raise_missing)\u001b[0m\n\u001b[0;32m   1264\u001b[0m             \u001b[0mkeyarr\u001b[0m\u001b[1;33m,\u001b[0m \u001b[0mindexer\u001b[0m\u001b[1;33m,\u001b[0m \u001b[0mnew_indexer\u001b[0m \u001b[1;33m=\u001b[0m \u001b[0max\u001b[0m\u001b[1;33m.\u001b[0m\u001b[0m_reindex_non_unique\u001b[0m\u001b[1;33m(\u001b[0m\u001b[0mkeyarr\u001b[0m\u001b[1;33m)\u001b[0m\u001b[1;33m\u001b[0m\u001b[1;33m\u001b[0m\u001b[0m\n\u001b[0;32m   1265\u001b[0m \u001b[1;33m\u001b[0m\u001b[0m\n\u001b[1;32m-> 1266\u001b[1;33m         \u001b[0mself\u001b[0m\u001b[1;33m.\u001b[0m\u001b[0m_validate_read_indexer\u001b[0m\u001b[1;33m(\u001b[0m\u001b[0mkeyarr\u001b[0m\u001b[1;33m,\u001b[0m \u001b[0mindexer\u001b[0m\u001b[1;33m,\u001b[0m \u001b[0maxis\u001b[0m\u001b[1;33m,\u001b[0m \u001b[0mraise_missing\u001b[0m\u001b[1;33m=\u001b[0m\u001b[0mraise_missing\u001b[0m\u001b[1;33m)\u001b[0m\u001b[1;33m\u001b[0m\u001b[1;33m\u001b[0m\u001b[0m\n\u001b[0m\u001b[0;32m   1267\u001b[0m         \u001b[1;32mreturn\u001b[0m \u001b[0mkeyarr\u001b[0m\u001b[1;33m,\u001b[0m \u001b[0mindexer\u001b[0m\u001b[1;33m\u001b[0m\u001b[1;33m\u001b[0m\u001b[0m\n\u001b[0;32m   1268\u001b[0m \u001b[1;33m\u001b[0m\u001b[0m\n",
      "\u001b[1;32m~\\Anaconda3\\lib\\site-packages\\pandas\\core\\indexing.py\u001b[0m in \u001b[0;36m_validate_read_indexer\u001b[1;34m(self, key, indexer, axis, raise_missing)\u001b[0m\n\u001b[0;32m   1319\u001b[0m \u001b[1;33m\u001b[0m\u001b[0m\n\u001b[0;32m   1320\u001b[0m             \u001b[1;32mwith\u001b[0m \u001b[0moption_context\u001b[0m\u001b[1;33m(\u001b[0m\u001b[1;34m\"display.max_seq_items\"\u001b[0m\u001b[1;33m,\u001b[0m \u001b[1;36m10\u001b[0m\u001b[1;33m,\u001b[0m \u001b[1;34m\"display.width\"\u001b[0m\u001b[1;33m,\u001b[0m \u001b[1;36m80\u001b[0m\u001b[1;33m)\u001b[0m\u001b[1;33m:\u001b[0m\u001b[1;33m\u001b[0m\u001b[1;33m\u001b[0m\u001b[0m\n\u001b[1;32m-> 1321\u001b[1;33m                 raise KeyError(\n\u001b[0m\u001b[0;32m   1322\u001b[0m                     \u001b[1;34m\"Passing list-likes to .loc or [] with any missing labels \"\u001b[0m\u001b[1;33m\u001b[0m\u001b[1;33m\u001b[0m\u001b[0m\n\u001b[0;32m   1323\u001b[0m                     \u001b[1;34m\"is no longer supported. \"\u001b[0m\u001b[1;33m\u001b[0m\u001b[1;33m\u001b[0m\u001b[0m\n",
      "\u001b[1;31mKeyError\u001b[0m: \"Passing list-likes to .loc or [] with any missing labels is no longer supported. The following labels were missing: Index(['급수'], dtype='object'). See https://pandas.pydata.org/pandas-docs/stable/user_guide/indexing.html#deprecate-loc-reindex-listlike\""
     ]
    }
   ],
   "source": [
    "#데이터 프레임들에서 필요한 행과 컬럼만 남긴다. \n",
    "\n",
    "# df_list = ['df_일반', 'df_위기', 'df_상주', 'df_고위험군', 'df_특별개입', 'df_og']                        \n",
    "# df_list = ['df_일반', 'df_위기', 'df_상주_서울', 'df_상주_대전']                        \n",
    "df_list = [df_일반]                        \n",
    "\n",
    "\n",
    "for df_ex in df_list:\n",
    "    df_ex = df_ex.loc[:,['내담자명', '전화번호', '상담신청경로', '상담주제','상담분야','상담이용대상', '성별', '연령', \n",
    "                     '직위','지역', '효과성 검사 위험도 수준', '참석동반자','상담방법', '상담목표','상담사', '상담내용', \n",
    "                     '상담회차','상담날짜','상담시작시간','상담종료시간','진행시간','참석여부', '상담일지등록일', \n",
    "                     '기본상담료','대표자격증','급수','소속기관']]\n",
    "    \n",
    "    #nan값 있는 0번째 인덱스 행 지우기 \n",
    "    df_ex = df_ex.drop(index = 0, axis = 0)\n",
    "    \n",
    "    #상담일지 등록일을 기준으로 월보고를 작성한다. (확인필요)\n",
    "    #먼저 날짜 컬럼을 스트링으로 변경한다. \n",
    "    df_ex['상담일지등록일']= df_ex['상담일지등록일'].astype('str')\n",
    "    #0000-00-00형식의 날짜로 변환한다. \n",
    "    df_ex['상담일지등록일'] = pd.to_datetime(df_ex['상담일지등록일'],format='%Y-%m-%d')\n",
    "    #해당 날짜에 해당하는 값들 추출한다. \n",
    "    df_ex = df_ex[df_ex['상담일지등록일'].between('2022-01-01', '2022-01-31')]\n",
    "\n",
    "    #참석 동반자 결측값 직원으로 채우기\n",
    "    #df_ex['참석동반자'] = df_ex['참석동반자'].replace(to_replace = np.nan, value = '직원')\n",
    "\n",
    "    ## 이용인원구하기 위한 데이터프레임 \n",
    "    #마지막만 남기고 중복값 지우기 (동명이인일 경우를 생각해서 전화번호를 고유값으로 정한다.)\n",
    "    #마지막 데이터를 남기는 이유는 : 해당 내담자가 진행한 마지막 회기(최신상태)만 남기기 위해서\n",
    "    df_ex_people = df_ex.drop_duplicates(['전화번호'], keep='last')\n",
    "\n",
    "    #target_month = 1\n",
    "    # df = df[df['상담일지등록일'].dt.month==target_month] \n",
    "    # 또는 df1 = df1.query('상담일지등록일.dt.month == @target_month')\n",
    "\n",
    "    # 인덱스 리셋하기\n",
    "    df_ex = df_ex.reset_index(drop = True) # 상담 이용건수 구하는 dataframe\n",
    "    df_ex_people = df_ex_people.reset_index(drop = True) #이용인원 구하는 dataframe"
   ]
  },
  {
   "cell_type": "markdown",
   "metadata": {},
   "source": [
    "# 운영개요"
   ]
  },
  {
   "cell_type": "markdown",
   "metadata": {},
   "source": [
    "# 1. 이용실적"
   ]
  },
  {
   "cell_type": "code",
   "execution_count": 15,
   "metadata": {},
   "outputs": [
    {
     "data": {
      "text/plain": [
       "55"
      ]
     },
     "execution_count": 15,
     "metadata": {},
     "output_type": "execute_result"
    }
   ],
   "source": [
    "# df_people['내담자명'].value_counts()\n",
    "len(df_people['내담자명'])"
   ]
  },
  {
   "cell_type": "code",
   "execution_count": 18,
   "metadata": {},
   "outputs": [
    {
     "data": {
      "text/plain": [
       "137"
      ]
     },
     "execution_count": 18,
     "metadata": {},
     "output_type": "execute_result"
    }
   ],
   "source": [
    "# df['내담자명'].value_counts()\n",
    "len(df['내담자명'])"
   ]
  },
  {
   "cell_type": "code",
   "execution_count": 4,
   "metadata": {},
   "outputs": [
    {
     "name": "stdout",
     "output_type": "stream",
     "text": [
      "이용인원에 따른 상담방법 대면    53\n",
      "전화     1\n",
      "화상     1\n",
      "Name: 상담방법, dtype: int64\n",
      "\n",
      "이용건수에 따른 상담방법 대면    135\n",
      "전화      1\n",
      "화상      1\n",
      "Name: 상담방법, dtype: int64\n"
     ]
    }
   ],
   "source": [
    "print('이용인원에 따른 상담방법',df_people['상담방법'].value_counts())\n",
    "print('')\n",
    "print('이용건수에 따른 상담방법',df['상담방법'].value_counts())"
   ]
  },
  {
   "cell_type": "code",
   "execution_count": 20,
   "metadata": {},
   "outputs": [
    {
     "data": {
      "text/plain": [
       "대면    0.963636\n",
       "전화    0.018182\n",
       "화상    0.018182\n",
       "Name: 상담방법, dtype: float64"
      ]
     },
     "execution_count": 20,
     "metadata": {},
     "output_type": "execute_result"
    }
   ],
   "source": [
    "df_people['상담방법'].value_counts('전화')"
   ]
  },
  {
   "cell_type": "code",
   "execution_count": 5,
   "metadata": {},
   "outputs": [
    {
     "name": "stdout",
     "output_type": "stream",
     "text": [
      "2페이지\n",
      "대면상담 중 가족 이용인원 :  23\n",
      "대면상담 중 가족 이용건수 :  64\n",
      "대면상담 중 직원 이용인원 :  30\n",
      "대면상담 중 직원 이용건수 :  71\n",
      "전화상담 중 가족 이용인원 :  0\n",
      "전화상담 중 가족 이용건수 :  0\n",
      "전화상담 중 직원 이용인원 :  1\n",
      "전화상담 중 직원 이용건수 :  1\n",
      "화상상담 중 가족 이용인원 :  1\n",
      "화상상담 중 가족 이용건수 :  1\n",
      "화상상담 중 직원 이용인원 :  0\n",
      "화상상담 중 직원 이용건수 :  0\n",
      "이메일 중 가족 이용인원 :  0\n",
      "이메일 중 가족 이용건수  :  0\n",
      "이메일 중 직원 이용인원 :  0\n",
      "이메일 중 직원 이용건수 :  0\n",
      "톡상담 중 가족 이용인원 :  0\n",
      "톡상담 중 가족 이용건수 :  0\n",
      "톡상담 중 직원 이용인원 :  0\n",
      "톡상담 중 직원 이용건수 :  0\n",
      "야간상담 중 가족 이용인원 :  0\n",
      "야간상담 중 가족 이용건수 :  0\n",
      "야간상담 중 직원 이용인원 :  0\n",
      "야간상담 중 직원 이용건수 :  0\n",
      "상주상담 중 가족 이용인원 :  0\n",
      "상주상담 중 가족 이용건수 :  0\n",
      "상주상담 중 직원 이용인원 :  0\n",
      "상주상담 중 직원 이용건수 :  0\n",
      "집단상담 중 가족 이용인원 :  0\n",
      "집단상담 중 가족 이용건수 :  0\n",
      "집단상담 중 직원 이용인원 :  0\n",
      "집단상담 중 직원 이용건수 :  0\n",
      "집단상담 중 가족 이용인원 :  0\n",
      "노쇼 중 가족 이용건수 :  0\n",
      "노쇼 중 직원 이용인원 :  0\n",
      "노쇼 중 직원 이용건수 :  0\n"
     ]
    }
   ],
   "source": [
    "#### 1. 이용실적 표 구하기 \n",
    "print(\"2페이지\")\n",
    "# 대면상담 중 가족 이용인원\n",
    "df_inperson_family_people = df_people[(df_people['상담방법'] == '대면') & (df_people[\"참석동반자\"].str.startswith(\"가족\"))]\n",
    "df_inperson_family_people = df_inperson_family_people.reset_index()\n",
    "df_inperson_family_people_num = len(df_inperson_family_people)\n",
    "print(\"대면상담 중 가족 이용인원 : \", df_inperson_family_people_num)\n",
    "\n",
    "# 대면상담 중 가족 이용건수 \n",
    "df_inperson_family_counts = df[(df['상담방법'] == '대면') & (df[\"참석동반자\"].str.startswith(\"가족\"))]\n",
    "df_inperson_family_counts = df_inperson_family_counts.reset_index()\n",
    "df_inperson_family_counts_num = len(df_inperson_family_counts)\n",
    "print(\"대면상담 중 가족 이용건수 : \", df_inperson_family_counts_num )\n",
    "\n",
    "# 대면상담 중 직원 이용인원\n",
    "df_inperson_employee_people = df_people[(df_people['상담방법'] == '대면') & (df_people[\"참석동반자\"].str.startswith(\"직원\"))]\n",
    "df_inperson_employee_people = df_inperson_employee_people.reset_index()\n",
    "df_inperson_employee_people_num = len(df_inperson_employee_people)\n",
    "print(\"대면상담 중 직원 이용인원 : \", df_inperson_employee_people_num )\n",
    "\n",
    "# 대면상담 중 직원 이용건수 \n",
    "df_inperson_employee_counts = df[(df['상담방법'] == '대면') & (df[\"참석동반자\"].str.startswith(\"직원\"))]\n",
    "df_inperson_employee_counts = df_inperson_employee_counts.reset_index()\n",
    "df_inperson_employee_counts_num = len(df_inperson_employee_counts)\n",
    "print(\"대면상담 중 직원 이용건수 : \", df_inperson_employee_counts_num )\n",
    "\n",
    "# 전화상담 중 가족 이용인원\n",
    "df_call_family_people = df_people[(df_people['상담방법'] == '전화') & (df_people[\"참석동반자\"].str.startswith(\"가족\"))]\n",
    "df_call_family_people = df_call_family_people.reset_index()\n",
    "df_call_family_people_num = len(df_call_family_people)\n",
    "print(\"전화상담 중 가족 이용인원 : \", df_call_family_people_num)\n",
    "\n",
    "\n",
    "# 전화상담 중 가족 이용건수 \n",
    "df_call_family_counts = df[(df['상담방법'] == '전화') & (df[\"참석동반자\"].str.startswith(\"가족\"))]\n",
    "df_call_family_counts = df_call_family_counts.reset_index()\n",
    "df_call_family_counts_num = len(df_call_family_counts)\n",
    "print(\"전화상담 중 가족 이용건수 : \", df_call_family_counts_num)\n",
    "\n",
    "# 전화상담 중 직원 이용인원\n",
    "df_call_employee_people = df_people[(df_people['상담방법'] == '전화') & (df_people[\"참석동반자\"].str.startswith(\"직원\"))]\n",
    "df_call_employee_people = df_call_employee_people.reset_index()\n",
    "df_call_employee_people_num = len(df_call_employee_people)\n",
    "print(\"전화상담 중 직원 이용인원 : \", df_call_employee_people_num)\n",
    "\n",
    "\n",
    "# 전화상담 중 직원 이용건수 \n",
    "df_call_employee_counts = df[(df['상담방법'] == '전화') & (df[\"참석동반자\"].str.startswith(\"직원\"))]\n",
    "df_call_employee_counts = df_call_employee_counts.reset_index()\n",
    "df_call_employee_counts_num = len(df_call_employee_counts)\n",
    "print(\"전화상담 중 직원 이용건수 : \", df_call_employee_counts_num)\n",
    "\n",
    "\n",
    "# 화상상담 중 가족 이용인원\n",
    "df_zoom_family_people = df_people[(df_people['상담방법'] == '화상') & (df_people[\"참석동반자\"].str.startswith(\"가족\"))]\n",
    "df_zoom_family_people = df_zoom_family_people.reset_index()\n",
    "df_zoom_family_people_num = len(df_zoom_family_people)\n",
    "print(\"화상상담 중 가족 이용인원 : \", df_zoom_family_people_num)\n",
    "\n",
    "# 화상상담 중 가족 이용건수 \n",
    "df_zoom_family_counts = df[(df['상담방법'] == '화상') & (df[\"참석동반자\"].str.startswith(\"가족\"))]\n",
    "df_zoom_family_counts = df_zoom_family_counts.reset_index()\n",
    "df_zoom_family_counts_num = len(df_zoom_family_counts)\n",
    "print(\"화상상담 중 가족 이용건수 : \", df_zoom_family_counts_num)\n",
    "\n",
    "# 화상상담 중 직원 이용인원\n",
    "df_zoom_employee_people = df_people[(df_people['상담방법'] == '화상') & (df_people[\"참석동반자\"].str.startswith(\"직원\"))]\n",
    "df_zoom_employee_people = df_zoom_employee_people.reset_index()\n",
    "df_zoom_employee_people_num = len(df_zoom_employee_people)\n",
    "print(\"화상상담 중 직원 이용인원 : \", df_zoom_employee_people_num)\n",
    "\n",
    "# 화상상담 중 직원 이용건수 \n",
    "df_zoom_employee_counts = df[(df['상담방법'] == '화상') & (df[\"참석동반자\"].str.startswith(\"직원\"))]\n",
    "df_zoom_employee_counts = df_zoom_employee_counts.reset_index()\n",
    "df_zoom_employee_counts_num = len(df_zoom_employee_counts)\n",
    "print(\"화상상담 중 직원 이용건수 : \", df_zoom_employee_counts_num)\n",
    "\n",
    "# 이메일 중 가족 이용인원\n",
    "df_email_family_people = df_people[(df_people['상담방법'] == '이메일') & (df_people[\"참석동반자\"].str.startswith(\"가족\"))]\n",
    "df_email_family_people = df_email_family_people.reset_index()\n",
    "df_email_family_people_num = len(df_email_family_people)\n",
    "print(\"이메일 중 가족 이용인원 : \", df_email_family_people_num)\n",
    "\n",
    "# 이메일 중 가족 이용건수 \n",
    "df_email_family_counts = df[(df['상담방법'] == '이메일') & (df[\"참석동반자\"].str.startswith(\"가족\"))]\n",
    "df_email_family_counts = df_email_family_counts.reset_index()\n",
    "df_email_family_counts_num = len(df_email_family_counts)\n",
    "print(\"이메일 중 가족 이용건수  : \", df_email_family_counts_num)\n",
    "\n",
    "# 이메일 중 직원 이용인원\n",
    "df_email_employee_people = df_people[(df_people['상담방법'] == '이메일') & (df_people[\"참석동반자\"].str.startswith(\"직원\"))]\n",
    "df_email_employee_people = df_email_employee_people.reset_index()\n",
    "df_email_employee_people_num = len(df_email_employee_people)\n",
    "print(\"이메일 중 직원 이용인원 : \", df_email_employee_people_num)\n",
    "\n",
    "\n",
    "# 이메일 중 직원 이용건수 \n",
    "df_email_employee_counts = df[(df['상담방법'] == '이메일') & (df[\"참석동반자\"].str.startswith(\"직원\"))]\n",
    "df_email_employee_counts = df_email_employee_counts.reset_index()\n",
    "df_email_employee_counts_num = len(df_email_employee_counts)\n",
    "print(\"이메일 중 직원 이용건수 : \", df_email_employee_counts_num)\n",
    "\n",
    "# 톡상담 중 가족 이용인원\n",
    "df_talk_family_people = df_people[(df_people['상담방법'] == '톡상담') & (df_people[\"참석동반자\"].str.startswith(\"가족\"))]\n",
    "df_talk_family_people = df_email_family_people.reset_index()\n",
    "df_talk_family_people_num = len(df_talk_family_people)\n",
    "print(\"톡상담 중 가족 이용인원 : \", df_talk_family_people_num)\n",
    "\n",
    "# 톡상담 중 가족 이용건수 \n",
    "df_talk_zoom_family_counts = df[(df['상담방법'] == '톡상담') & (df[\"참석동반자\"].str.startswith(\"가족\"))]\n",
    "df_talk_zoom_family_counts = df_talk_zoom_family_counts.reset_index()\n",
    "df_talk_zoom_family_counts_num = len(df_talk_zoom_family_counts)\n",
    "print(\"톡상담 중 가족 이용건수 : \", df_talk_zoom_family_counts_num)\n",
    "\n",
    "# 톡상담 중 직원 이용인원\n",
    "df_talk_zoom_employee_people = df_people[(df_people['상담방법'] == '톡상담') & (df_people[\"참석동반자\"].str.startswith(\"직원\"))]\n",
    "df_talk_zoom_employee_people = df_talk_zoom_employee_people.reset_index()\n",
    "df_talk_zoom_employee_people_num = len(df_talk_zoom_employee_people)\n",
    "print(\"톡상담 중 직원 이용인원 : \", df_talk_zoom_employee_people_num)\n",
    "\n",
    "# 톡상담 중 직원 이용건수 \n",
    "df_talk_employee_counts = df[(df['상담방법'] == '톡상담') & (df[\"참석동반자\"].str.startswith(\"직원\"))]\n",
    "df_talk_employee_counts = df_talk_employee_counts.reset_index()\n",
    "df_talk_employee_counts_num = len(df_talk_employee_counts)\n",
    "print(\"톡상담 중 직원 이용건수 : \", df_talk_employee_counts_num)\n",
    "\n",
    "\n",
    "# 야간상담 중 가족 이용인원\n",
    "df_night_family_people = df_people[(df_people['상담방법'] == '야간상담') & (df_people[\"참석동반자\"].str.startswith(\"가족\"))]\n",
    "df_night_family_people = df_night_family_people.reset_index()\n",
    "df_night_family_people_num = len(df_night_family_people)\n",
    "print(\"야간상담 중 가족 이용인원 : \", df_night_family_people_num)\n",
    "\n",
    "# 야간상담 중 가족 이용건수 \n",
    "df_night_zoom_family_counts = df[(df['상담방법'] == '야간상담') & (df[\"참석동반자\"].str.startswith(\"가족\"))]\n",
    "df_night_zoom_family_counts = df_night_zoom_family_counts.reset_index()\n",
    "df_night_zoom_family_counts_num = len(df_night_zoom_family_counts)\n",
    "print(\"야간상담 중 가족 이용건수 : \", df_night_zoom_family_counts_num)\n",
    "\n",
    "# 야간상담 중 직원 이용인원\n",
    "df_night_zoom_employee_people = df_people[(df_people['상담방법'] == '야간상담') & (df_people[\"참석동반자\"].str.startswith(\"직원\"))]\n",
    "df_night_zoom_employee_people = df_night_zoom_employee_people.reset_index()\n",
    "df_night_zoom_employee_people_num = len(df_night_zoom_employee_people)\n",
    "print(\"야간상담 중 직원 이용인원 : \", df_night_zoom_employee_people_num)\n",
    "\n",
    "# 야간상담 중 직원 이용건수 \n",
    "df_night_employee_counts = df[(df['상담방법'] == '야간상담') & (df[\"참석동반자\"].str.startswith(\"직원\"))]\n",
    "df_night_employee_counts = df_night_employee_counts.reset_index()\n",
    "df_night_employee_counts_num = len(df_night_employee_counts)\n",
    "print(\"야간상담 중 직원 이용건수 : \", df_night_employee_counts_num)\n",
    "\n",
    "# 상주상담 중 가족 이용인원\n",
    "df_stay_family_people = df_people[(df_people['상담방법'] == '상주상담') & (df_people[\"참석동반자\"].str.startswith(\"가족\"))]\n",
    "df_stay_family_people = df_stay_family_people.reset_index()\n",
    "df_stay_family_people_num = len(df_stay_family_people)\n",
    "print(\"상주상담 중 가족 이용인원 : \", df_stay_family_people_num)\n",
    "\n",
    "# 상주상담 중 가족 이용건수 \n",
    "df_stay_zoom_family_counts = df[(df['상담방법'] == '상주상담') & (df[\"참석동반자\"].str.startswith(\"가족\"))]\n",
    "df_stay_zoom_family_counts = df_stay_zoom_family_counts.reset_index()\n",
    "df_stay_zoom_family_counts_num = len(df_stay_zoom_family_counts)\n",
    "print(\"상주상담 중 가족 이용건수 : \", df_stay_zoom_family_counts_num)\n",
    "\n",
    "\n",
    "# 상주상담 중 직원 이용인원\n",
    "df_stay_zoom_employee_people = df_people[(df_people['상담방법'] == '상주상담') & (df_people[\"참석동반자\"].str.startswith(\"직원\"))]\n",
    "df_stay_zoom_employee_people = df_stay_zoom_employee_people.reset_index()\n",
    "df_stay_zoom_employee_people_num = len(df_stay_zoom_employee_people)\n",
    "print(\"상주상담 중 직원 이용인원 : \", df_stay_zoom_employee_people_num)\n",
    "\n",
    "# 상주상담 중 직원 이용건수 \n",
    "df_stay_employee_counts = df[(df['상담방법'] == '상주상담') & (df[\"참석동반자\"].str.startswith(\"직원\"))]\n",
    "df_stay_employee_counts = df_stay_employee_counts.reset_index()\n",
    "df_stay_employee_counts_num = len(df_stay_employee_counts)\n",
    "print(\"상주상담 중 직원 이용건수 : \", df_stay_employee_counts_num)\n",
    "\n",
    "# 집단상담 중 가족 이용인원\n",
    "df_group_family_people = df_people[(df_people['상담방법'] == '집단상담') & (df_people[\"참석동반자\"].str.startswith(\"가족\"))]\n",
    "df_group_family_people = df_group_family_people.reset_index()\n",
    "df_group_family_people_num = len(df_group_family_people)\n",
    "print(\"집단상담 중 가족 이용인원 : \", df_group_family_people_num)\n",
    "\n",
    "# 집단상담 중 가족 이용건수 \n",
    "df_group_family_counts = df[(df['상담방법'] == '집단상담') & (df[\"참석동반자\"].str.startswith(\"가족\"))]\n",
    "df_group_family_counts = df_group_family_counts.reset_index()\n",
    "df_group_family_counts_num = len(df_group_family_counts)\n",
    "print(\"집단상담 중 가족 이용건수 : \", df_group_family_counts_num)\n",
    "\n",
    "# 집단상담 중 직원 이용인원\n",
    "df_group_employee_people = df_people[(df_people['상담방법'] == '집단상담') & (df_people[\"참석동반자\"].str.startswith(\"직원\"))]\n",
    "df_group_employee_people = df_group_employee_people.reset_index()\n",
    "df_group_employee_people_num = len(df_group_employee_people)\n",
    "print(\"집단상담 중 직원 이용인원 : \", df_group_employee_people_num)\n",
    "\n",
    "# 집단상담 중 직원 이용건수 \n",
    "df_group_employee_counts = df[(df['상담방법'] == '집단상담') & (df[\"참석동반자\"].str.startswith(\"직원\"))]\n",
    "df_group_employee_counts = df_group_employee_counts.reset_index()\n",
    "df_group_employee_counts_num = len(df_group_employee_counts)\n",
    "print(\"집단상담 중 직원 이용건수 : \", df_group_employee_counts_num)\n",
    "\n",
    "# 노쇼 중 가족 이용인원\n",
    "df_noshow_family_people = df_people[(df_people['상담방법'] == '집단상담') & (df_people[\"참석동반자\"].str.startswith(\"가족\"))]\n",
    "df_noshow_family_people = df_noshow_family_people.reset_index()\n",
    "df_noshow_family_people_num = len(df_noshow_family_people)\n",
    "print(\"집단상담 중 가족 이용인원 : \", df_noshow_family_people_num)\n",
    "\n",
    "# 노쇼 중 가족 이용건수 \n",
    "df_noshow_zoom_family_counts = df[(df['상담방법'] == '노쇼') & (df[\"참석동반자\"].str.startswith(\"가족\"))]\n",
    "df_noshow_zoom_family_counts = df_noshow_zoom_family_counts.reset_index()\n",
    "df_noshow_zoom_family_counts_num = len(df_noshow_zoom_family_counts)\n",
    "print(\"노쇼 중 가족 이용건수 : \", df_noshow_zoom_family_counts_num)\n",
    "\n",
    "# 노쇼 중 직원 이용인원\n",
    "df_noshow_zoom_employee_people = df_people[(df_people['상담방법'] == '노쇼') & (df_people[\"참석동반자\"].str.startswith(\"직원\"))]\n",
    "df_noshow_zoom_employee_people = df_noshow_zoom_employee_people.reset_index()\n",
    "df_noshow_zoom_employee_people_num = len(df_noshow_zoom_employee_people)\n",
    "print(\"노쇼 중 직원 이용인원 : \", df_noshow_zoom_employee_people_num)\n",
    "\n",
    "# 노쇼 중 직원 이용건수 \n",
    "df_noshow_employee_counts = df[(df['상담방법'] == '노쇼') & (df[\"참석동반자\"].str.startswith(\"직원\"))]\n",
    "df_noshow_employee_counts = df_noshow_employee_counts.reset_index()\n",
    "df_noshow_employee_counts_num = len(df_noshow_employee_counts)\n",
    "print(\"노쇼 중 직원 이용건수 : \", df_noshow_employee_counts_num)"
   ]
  },
  {
   "cell_type": "markdown",
   "metadata": {},
   "source": [
    "# 2. 월별이용현황"
   ]
  },
  {
   "cell_type": "code",
   "execution_count": 6,
   "metadata": {},
   "outputs": [
    {
     "name": "stdout",
     "output_type": "stream",
     "text": [
      "월별이용현황, 이용인원\n",
      "직원          31\n",
      "가족 - 자녀     19\n",
      "가족 - 배우자     3\n",
      "가족 - 기타      2\n",
      "Name: 참석동반자, dtype: int64\n",
      "\n",
      "월별이용현황, 이용건수\n",
      "직원          72\n",
      "가족 - 자녀     47\n",
      "가족 - 배우자    10\n",
      "가족 - 기타      8\n",
      "Name: 참석동반자, dtype: int64\n",
      "\n"
     ]
    }
   ],
   "source": [
    "print('월별이용현황, 이용인원')\n",
    "print(df_people['참석동반자'].value_counts())\n",
    "print('')\n",
    "print('월별이용현황, 이용건수')\n",
    "print(df['참석동반자'].value_counts())\n",
    "print('')"
   ]
  },
  {
   "cell_type": "markdown",
   "metadata": {},
   "source": [
    "# 3. 인적사항"
   ]
  },
  {
   "cell_type": "code",
   "execution_count": 7,
   "metadata": {},
   "outputs": [
    {
     "name": "stdout",
     "output_type": "stream",
     "text": [
      "인적사항_성별 구분, 이용인원\n",
      "여    39\n",
      "남    16\n",
      "Name: 성별, dtype: int64\n",
      "\n",
      "인적사항_성별 구분, 이용건수\n",
      "여    87\n",
      "남    50\n",
      "Name: 성별, dtype: int64\n",
      "\n",
      "인적사항_연령별 구분, 이용인원\n",
      "40대    27\n",
      "30대    15\n",
      "50대    12\n",
      "20대     1\n",
      "Name: 연령, dtype: int64\n",
      "\n",
      "인적사항_연령별 구분, 이용건수\n",
      "40대    67\n",
      "30대    36\n",
      "50대    31\n",
      "20대     3\n",
      "Name: 연령, dtype: int64\n",
      "\n",
      "인적사항_직위별 구분, 이용인원\n",
      "대리                      18\n",
      "과장 차장                   18\n",
      "임원 전문직무직원 임금피크 파트타이머     7\n",
      "계장                       6\n",
      "팀장 부장 등                  6\n",
      "Name: 직위, dtype: int64\n",
      "\n",
      "인적사항_직위별 구분, 이용건수\n",
      "과장 차장                   55\n",
      "대리                      39\n",
      "임원 전문직무직원 임금피크 파트타이머    22\n",
      "팀장 부장 등                 15\n",
      "계장                       6\n",
      "Name: 직위, dtype: int64\n",
      "\n",
      "인적사항_지역별 구분, 이용인원\n",
      "서울          32\n",
      "경기          10\n",
      "부산 울산 경남     7\n",
      "대전 세종 충남     3\n",
      "대구 경북        2\n",
      "인천           1\n",
      "Name: 지역, dtype: int64\n",
      "\n",
      "인적사항_지역별 구분, 이용건수\n",
      "서울          84\n",
      "경기          22\n",
      "부산 울산 경남    18\n",
      "대전 세종 충남     7\n",
      "대구 경북        5\n",
      "인천           1\n",
      "Name: 지역, dtype: int64\n",
      "\n"
     ]
    }
   ],
   "source": [
    "print(\"인적사항_성별 구분, 이용인원\")\n",
    "print(df_people['성별'].value_counts())\n",
    "print('')\n",
    "print(\"인적사항_성별 구분, 이용건수\")\n",
    "print(df['성별'].value_counts())\n",
    "print('')\n",
    "print(\"인적사항_연령별 구분, 이용인원\")\n",
    "print(df_people['연령'].value_counts())\n",
    "print('')\n",
    "print(\"인적사항_연령별 구분, 이용건수\")\n",
    "print(df['연령'].value_counts())\n",
    "print('')\n",
    "# print(\"인적사항_직군별 구분, 이용인원\")\n",
    "# print(df_people['직군'].value_counts())\n",
    "# print('')\n",
    "# print(\"인적사항_직군별 구분, 이용건수\")\n",
    "# print(df['직군'].value_counts())\n",
    "# print('')\n",
    "print(\"인적사항_직위별 구분, 이용인원\")\n",
    "print(df_people['직위'].value_counts())\n",
    "print('')\n",
    "print(\"인적사항_직위별 구분, 이용건수\")\n",
    "print(df['직위'].value_counts())\n",
    "print('')\n",
    "print(\"인적사항_지역별 구분, 이용인원\")\n",
    "print(df_people['지역'].value_counts())\n",
    "print('')\n",
    "print(\"인적사항_지역별 구분, 이용건수\")\n",
    "print(df['지역'].value_counts())\n",
    "print('')"
   ]
  },
  {
   "cell_type": "markdown",
   "metadata": {},
   "source": [
    "# 4. 이용자 현황"
   ]
  },
  {
   "cell_type": "code",
   "execution_count": 8,
   "metadata": {},
   "outputs": [
    {
     "name": "stdout",
     "output_type": "stream",
     "text": [
      "4. 이용자 현황_월별 신규인원\n",
      "False    80\n",
      "True     57\n",
      "Name: 상담회차, dtype: int64\n",
      "\n",
      "4. 이용자 현황_상담신청 경로\n",
      "홍보레터           32\n",
      "기타CUSCUS099    18\n",
      "지인추천            3\n",
      "프로그램            1\n",
      "설명회             1\n",
      "Name: 상담신청경로, dtype: int64\n",
      "notice : 기타는 의뢰입니다\n",
      "\n",
      "4. 이용자 현황_내담자 마음건강 상태\n",
      "무응답    18\n",
      "예방군    12\n",
      "주의군     8\n",
      "안정군     8\n",
      "보호군     6\n",
      "건강군     3\n",
      "Name: 효과성 검사 위험도 수준, dtype: int64\n"
     ]
    }
   ],
   "source": [
    "print(\"4. 이용자 현황_월별 신규인원\")\n",
    "df신규인원 = df['상담회차'] == '1회차'\n",
    "## flase를 세면됨 \n",
    "print(df신규인원.value_counts())\n",
    "print(\"\")\n",
    "\n",
    "print(\"4. 이용자 현황_상담신청 경로\")\n",
    "print(df_people['상담신청경로'].value_counts())\n",
    "print(\"notice : 기타는 의뢰입니다\")\n",
    "print(\"\")\n",
    "\n",
    "print(\"4. 이용자 현황_내담자 마음건강 상태\")\n",
    "print(df_people['효과성 검사 위험도 수준'].value_counts())\n",
    "\n",
    "# df[(df['상담방법'] == '집단상담') & (df[\"참석동반자\"].str.startswith(\"가족\"))]\n",
    "# 상담주제, 효과성 검사 위험도 수준"
   ]
  },
  {
   "cell_type": "markdown",
   "metadata": {},
   "source": [
    "# 분석결과"
   ]
  },
  {
   "cell_type": "markdown",
   "metadata": {},
   "source": [
    "# 1. EAP 상담 진행 내용"
   ]
  },
  {
   "cell_type": "code",
   "execution_count": 9,
   "metadata": {
    "scrolled": false
   },
   "outputs": [
    {
     "name": "stdout",
     "output_type": "stream",
     "text": [
      "1) 회기별 분류\n",
      "1회차    18\n",
      "2회차    14\n",
      "3회차    13\n",
      "4회차     6\n",
      "6회차     2\n",
      "7회차     1\n",
      "5회차     1\n",
      "Name: 상담회차, dtype: int64\n",
      "\n",
      "2) 상담분야별분류_이용인원\n",
      "자녀         32\n",
      "우울          8\n",
      "업무스트레스      3\n",
      "배우자         3\n",
      "스트레스관리      2\n",
      "기타          2\n",
      "원가족         2\n",
      "대인관계        1\n",
      "조직내관계갈등     1\n",
      "성격          1\n",
      "Name: 상담분야, dtype: int64\n",
      "\n",
      "2) 상담분야별분류_이용건수\n",
      "자녀         81\n",
      "우울         12\n",
      "업무스트레스     11\n",
      "배우자        10\n",
      "원가족         7\n",
      "기타          5\n",
      "스트레스관리      4\n",
      "대인관계        3\n",
      "조직내관계갈등     3\n",
      "성격          1\n",
      "Name: 상담분야, dtype: int64\n",
      "\n",
      "[개인/조직 상담 total]\n",
      "False : 개인, True :  조직\n",
      "False    55\n",
      "Name: 상담분야, dtype: int64\n"
     ]
    },
    {
     "data": {
      "text/plain": [
       "0     False\n",
       "1      True\n",
       "2      True\n",
       "3      True\n",
       "4     False\n",
       "5      True\n",
       "6     False\n",
       "7      True\n",
       "8      True\n",
       "9      True\n",
       "10    False\n",
       "11     True\n",
       "12    False\n",
       "13    False\n",
       "14     True\n",
       "15     True\n",
       "16     True\n",
       "17     True\n",
       "18     True\n",
       "19     True\n",
       "20    False\n",
       "21    False\n",
       "22     True\n",
       "23    False\n",
       "24    False\n",
       "25    False\n",
       "26     True\n",
       "27    False\n",
       "28     True\n",
       "29     True\n",
       "30     True\n",
       "31    False\n",
       "32     True\n",
       "33    False\n",
       "34     True\n",
       "35    False\n",
       "36     True\n",
       "37    False\n",
       "38     True\n",
       "39    False\n",
       "40    False\n",
       "41     True\n",
       "42    False\n",
       "43    False\n",
       "44    False\n",
       "45     True\n",
       "46     True\n",
       "47    False\n",
       "48     True\n",
       "49    False\n",
       "50     True\n",
       "51     True\n",
       "52    False\n",
       "53     True\n",
       "54     True\n",
       "Name: 참석동반자, dtype: bool"
      ]
     },
     "execution_count": 9,
     "metadata": {},
     "output_type": "execute_result"
    }
   ],
   "source": [
    "print(\"1) 회기별 분류\")\n",
    "print(df_people['상담회차'].value_counts())\n",
    "print(\"\")\n",
    "\n",
    "print(\"2) 상담분야별분류_이용인원\")\n",
    "print(df_people['상담분야'].value_counts())\n",
    "print(\"\")\n",
    "\n",
    "print(\"2) 상담분야별분류_이용건수\")\n",
    "print(df['상담분야'].value_counts())\n",
    "print(\"\")\n",
    "\n",
    "print(\"[개인/조직 상담 total]\")\n",
    "print(\"False : 개인, True :  조직\")\n",
    "df_개인 = df_people['상담분야'].str.startswith(\"Work\")\n",
    "print(df_개인.value_counts())\n",
    "\n",
    "df_people['참석동반자'] == '직원'"
   ]
  },
  {
   "cell_type": "code",
   "execution_count": 10,
   "metadata": {},
   "outputs": [],
   "source": [
    "df.to_excel(\"C:\\workshop\\국민은행_일반_상담분야확인용.xlsx\")"
   ]
  },
  {
   "cell_type": "code",
   "execution_count": 11,
   "metadata": {},
   "outputs": [],
   "source": [
    "df_people.to_excel(\"C:\\workshop\\국민은행_일반_수준확인용.xlsx\")"
   ]
  },
  {
   "cell_type": "code",
   "execution_count": 12,
   "metadata": {},
   "outputs": [],
   "source": [
    "#데이터 현황 파악하기 \n",
    "#people = []\n",
    "#count_p = 0\n",
    "#count_c = 0\n",
    "\n",
    "#for i in df['전화번호']:\n",
    "#    count_c += 1\n",
    "#    if i in people:\n",
    "#        pass\n",
    "#    else:\n",
    "#        people.append(i)\n",
    "#        count_p += 1\n",
    "\n",
    "#print(\"내담자 수 :\", count_p)\n",
    "#print(\"상담건수 :\", count_c)\n",
    "#print(\"내담자 이름 :\", people)"
   ]
  },
  {
   "cell_type": "code",
   "execution_count": 13,
   "metadata": {},
   "outputs": [],
   "source": [
    "#데이터 현황 파악하기 \n",
    "#ppl = []\n",
    "#counts = 0\n",
    "#counsel = 0\n",
    "\n",
    "#for p in df['내담자명']:\n",
    "#    counsel += 1\n",
    "#    if p in ppl:\n",
    "#        pass\n",
    "#    else:\n",
    "#        ppl.append(p)\n",
    "#         ppl.remove(nan)\n",
    "#        counts += 1\n",
    "    \n",
    "#print('내담자 수 :',counts)\n",
    "#print('상담건수 :', counsel)\n",
    "#print('내담자 이름 :', ppl)"
   ]
  },
  {
   "cell_type": "code",
   "execution_count": 14,
   "metadata": {},
   "outputs": [],
   "source": [
    "#1월달 데이터만 남기기\n",
    "#df2['상담일지등록일'] = pd.to_datetime(df2['상담일지등록일'],format='%Y-%m-%d')\n",
    "#df2['상담일지등록일']\n",
    "#df1['상담일지등록일'] = pd.to_datetime(df1['상담일지등록일'],format='%Y-%m-%d')\n",
    "#target_month = 1 # 1월\n",
    "#df.query('상담일지등록일.dt.month == @target_month') ## 또는 df[df['Date'].dt.month==target_month]"
   ]
  }
 ],
 "metadata": {
  "kernelspec": {
   "display_name": "Python 3",
   "language": "python",
   "name": "python3"
  },
  "language_info": {
   "codemirror_mode": {
    "name": "ipython",
    "version": 3
   },
   "file_extension": ".py",
   "mimetype": "text/x-python",
   "name": "python",
   "nbconvert_exporter": "python",
   "pygments_lexer": "ipython3",
   "version": "3.8.8"
  }
 },
 "nbformat": 4,
 "nbformat_minor": 4
}
