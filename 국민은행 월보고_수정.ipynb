{
 "cells": [
  {
   "cell_type": "code",
   "execution_count": 1,
   "id": "6bec6c38",
   "metadata": {},
   "outputs": [],
   "source": [
    "import openpyxl\n",
    "import pandas as pd\n",
    "import numpy as np\n",
    "\n",
    "#데이터 프레임 만들기\n",
    "df = pd.read_excel(\"C:\\workshop\\data\\국민은행 일반_1월 데이터.xlsx\", header = 1)\n",
    "# df_위기 = pd.read_excel(\"C:\\workshop\\data\\\", header = 1)\n",
    "# df_연계 = pd.concat([df_일반, df_위기])                     \n",
    "\n",
    "\n",
    "\n",
    "df = df.loc[:,['내담자명', '전화번호', '상담신청경로', '상담주제','상담분야','상담이용경로(정보출처)','상담이용대상', '성별', '연령','직급', \n",
    "                     '직위','지역', '효과성 검사 위험도 수준', '참석동반자','상담방법', '상담목표','상담사', '상담내용', \n",
    "                     '상담회차','상담날짜','상담시작시간','상담종료시간','진행시간','참석여부', '상담일지등록일', \n",
    "                     '기본상담료','대표자격증','(대표자격증) 급수','소속기관']]\n",
    "    \n",
    "#nan값 있는 0번째 인덱스 행 지우기 \n",
    "df = df.drop(index = 0, axis = 0)\n",
    "\n",
    "#상담일지 등록일을 기준으로 월보고를 작성한다. (확인필요)\n",
    "#먼저 날짜 컬럼을 스트링으로 변경한다. \n",
    "df['상담일지등록일']= df['상담일지등록일'].astype('str')\n",
    "#0000-00-00형식의 날짜로 변환한다. \n",
    "df['상담일지등록일'] = pd.to_datetime(df['상담일지등록일'],format='%Y-%m-%d')\n",
    "#해당 날짜에 해당하는 값들 추출한다. \n",
    "df = df[df['상담일지등록일'].between('2022-01-01', '2022-01-31')]\n",
    "\n",
    "#참석 동반자 결측값 직원으로 채우기\n",
    "#df_ex['참석동반자'] = df_ex['참석동반자'].replace(to_replace = np.nan, value = '직원')\n",
    "\n",
    "## 이용인원구하기 위한 데이터프레임 \n",
    "#마지막만 남기고 중복값 지우기 (동명이인일 경우를 생각해서 전화번호를 고유값으로 정한다.)\n",
    "#마지막 데이터를 남기는 이유는 : 해당 내담자가 진행한 마지막 회기(최신상태)만 남기기 위해서\n",
    "df_people = df.drop_duplicates(['전화번호'], keep='last')\n",
    "\n",
    "#target_month = 1\n",
    "# df = df[df['상담일지등록일'].dt.month==target_month] \n",
    "# 또는 df1 = df1.query('상담일지등록일.dt.month == @target_month')\n",
    "\n",
    "# 인덱스 리셋하기\n",
    "df = df.reset_index(drop = True) # 상담 이용건수 구하는 dataframe\n",
    "df_people = df_people.reset_index(drop = True) #이용인원 구하는 dataframe"
   ]
  },
  {
   "cell_type": "markdown",
   "id": "a19d41a4",
   "metadata": {},
   "source": [
    "# 이용실적\n"
   ]
  },
  {
   "cell_type": "code",
   "execution_count": 2,
   "id": "c628fd79",
   "metadata": {
    "scrolled": true
   },
   "outputs": [
    {
     "name": "stdout",
     "output_type": "stream",
     "text": [
      "총 이용직원 : 55\n"
     ]
    }
   ],
   "source": [
    "print('총 이용직원 :',len(df_people['내담자명']))"
   ]
  },
  {
   "cell_type": "code",
   "execution_count": 3,
   "id": "1f92d9a1",
   "metadata": {},
   "outputs": [
    {
     "name": "stdout",
     "output_type": "stream",
     "text": [
      "총 수혜직원 : False\n"
     ]
    },
    {
     "data": {
      "text/plain": [
       "False    35\n",
       "True     20\n",
       "Name: 상담이용대상, dtype: int64"
      ]
     },
     "execution_count": 3,
     "metadata": {},
     "output_type": "execute_result"
    }
   ],
   "source": [
    "print(\"총 수혜직원 : False\")\n",
    "df_people1 = df_people['상담이용대상'] == '본인'\n",
    "df_people1.value_counts()"
   ]
  },
  {
   "cell_type": "code",
   "execution_count": 4,
   "id": "0222c006",
   "metadata": {
    "scrolled": true
   },
   "outputs": [
    {
     "name": "stdout",
     "output_type": "stream",
     "text": [
      "이용인원 : 55\n",
      "[이용인원에 따른 상담방법]\n",
      " 대면    53\n",
      "전화     1\n",
      "화상     1\n",
      "Name: 상담방법, dtype: int64\n"
     ]
    }
   ],
   "source": [
    "print('이용인원 :',len(df_people['내담자명']))\n",
    "print('[이용인원에 따른 상담방법]' '\\n', df_people['상담방법'].value_counts())"
   ]
  },
  {
   "cell_type": "code",
   "execution_count": 5,
   "id": "c1506363",
   "metadata": {},
   "outputs": [
    {
     "name": "stdout",
     "output_type": "stream",
     "text": [
      "이용건수 :  137\n",
      "[이용건수에 따른 상담방법]\n",
      " 대면    135\n",
      "전화      1\n",
      "화상      1\n",
      "Name: 상담방법, dtype: int64\n"
     ]
    }
   ],
   "source": [
    "print(\"이용건수 : \", len(df['내담자명']))\n",
    "print(\"[이용건수에 따른 상담방법]\" '\\n', df['상담방법'].value_counts())"
   ]
  },
  {
   "cell_type": "markdown",
   "id": "4fa1ce13",
   "metadata": {},
   "source": [
    "# 월별 이용현황"
   ]
  },
  {
   "cell_type": "code",
   "execution_count": 6,
   "id": "2f17bbd2",
   "metadata": {
    "scrolled": true
   },
   "outputs": [
    {
     "name": "stdout",
     "output_type": "stream",
     "text": [
      "[이용인원] : 55\n",
      "자녀         32\n",
      "우울          8\n",
      "업무스트레스      3\n",
      "배우자         3\n",
      "원가족         2\n",
      "기타          2\n",
      "스트레스관리      2\n",
      "성격          1\n",
      "조직내관계갈등     1\n",
      "대인관계        1\n",
      "Name: 상담분야, dtype: int64\n"
     ]
    }
   ],
   "source": [
    "print('[이용인원] :',len(df_people['내담자명']))\n",
    "print(df_people['상담분야'].value_counts())"
   ]
  },
  {
   "cell_type": "code",
   "execution_count": 7,
   "id": "0f03531c",
   "metadata": {},
   "outputs": [
    {
     "name": "stdout",
     "output_type": "stream",
     "text": [
      "[이용건수] :  137\n",
      "자녀         81\n",
      "우울         12\n",
      "업무스트레스     11\n",
      "배우자        10\n",
      "원가족         7\n",
      "기타          5\n",
      "스트레스관리      4\n",
      "조직내관계갈등     3\n",
      "대인관계        3\n",
      "성격          1\n",
      "Name: 상담분야, dtype: int64\n"
     ]
    }
   ],
   "source": [
    "print(\"[이용건수] : \", len(df['내담자명']))\n",
    "print(df['상담분야'].value_counts())"
   ]
  },
  {
   "cell_type": "markdown",
   "id": "fb2c8353",
   "metadata": {},
   "source": [
    "# 3. 인적사항"
   ]
  },
  {
   "cell_type": "code",
   "execution_count": 8,
   "id": "88b4628b",
   "metadata": {},
   "outputs": [
    {
     "name": "stdout",
     "output_type": "stream",
     "text": [
      "인적사항_성별 구분, 이용인원\n",
      "여    39\n",
      "남    16\n",
      "Name: 성별, dtype: int64\n",
      "여    0.709091\n",
      "남    0.290909\n",
      "Name: 성별, dtype: float64\n",
      "\n",
      "인적사항_성별 구분, 이용건수\n",
      "여    87\n",
      "남    50\n",
      "Name: 성별, dtype: int64\n",
      "여    0.635036\n",
      "남    0.364964\n",
      "Name: 성별, dtype: float64\n",
      "\n",
      "인적사항_연령별 구분, 이용인원\n",
      "40대    27\n",
      "30대    15\n",
      "50대    12\n",
      "20대     1\n",
      "Name: 연령, dtype: int64\n",
      "40대    0.490909\n",
      "30대    0.272727\n",
      "50대    0.218182\n",
      "20대    0.018182\n",
      "Name: 연령, dtype: float64\n",
      "\n",
      "인적사항_연령별 구분, 이용건수\n",
      "40대    67\n",
      "30대    36\n",
      "50대    31\n",
      "20대     3\n",
      "Name: 연령, dtype: int64\n",
      "40대    0.489051\n",
      "30대    0.262774\n",
      "50대    0.226277\n",
      "20대    0.021898\n",
      "Name: 연령, dtype: float64\n",
      "\n",
      "인적사항_상담이용대상별 구분, 이용인원\n",
      "자녀     28\n",
      "본인     20\n",
      "가족      5\n",
      "배우자     2\n",
      "Name: 상담이용대상, dtype: int64\n",
      "자녀     0.509091\n",
      "본인     0.363636\n",
      "가족     0.090909\n",
      "배우자    0.036364\n",
      "Name: 상담이용대상, dtype: float64\n",
      "\n",
      "인적사항_상담이용대상별, 이용건수\n",
      "자녀     70\n",
      "본인     47\n",
      "가족     16\n",
      "배우자     4\n",
      "Name: 상담이용대상, dtype: int64\n",
      "자녀     0.510949\n",
      "본인     0.343066\n",
      "가족     0.116788\n",
      "배우자    0.029197\n",
      "Name: 상담이용대상, dtype: float64\n",
      "\n",
      "인적사항_직위별 구분, 이용인원\n",
      "과장 차장                   18\n",
      "대리                      18\n",
      "임원 전문직무직원 임금피크 파트타이머     7\n",
      "팀장 부장 등                  6\n",
      "계장                       6\n",
      "Name: 직위, dtype: int64\n",
      "과장 차장                   0.327273\n",
      "대리                      0.327273\n",
      "임원 전문직무직원 임금피크 파트타이머    0.127273\n",
      "팀장 부장 등                 0.109091\n",
      "계장                      0.109091\n",
      "Name: 직위, dtype: float64\n",
      "\n",
      "인적사항_직위별 구분, 이용건수\n",
      "과장 차장                   55\n",
      "대리                      39\n",
      "임원 전문직무직원 임금피크 파트타이머    22\n",
      "팀장 부장 등                 15\n",
      "계장                       6\n",
      "Name: 직위, dtype: int64\n",
      "과장 차장                   0.401460\n",
      "대리                      0.284672\n",
      "임원 전문직무직원 임금피크 파트타이머    0.160584\n",
      "팀장 부장 등                 0.109489\n",
      "계장                      0.043796\n",
      "Name: 직위, dtype: float64\n",
      "\n",
      "인적사항_지역별 구분, 이용인원\n",
      "서울          32\n",
      "경기          10\n",
      "부산 울산 경남     7\n",
      "대전 세종 충남     3\n",
      "대구 경북        2\n",
      "인천           1\n",
      "Name: 지역, dtype: int64\n",
      "서울          0.581818\n",
      "경기          0.181818\n",
      "부산 울산 경남    0.127273\n",
      "대전 세종 충남    0.054545\n",
      "대구 경북       0.036364\n",
      "인천          0.018182\n",
      "Name: 지역, dtype: float64\n",
      "\n",
      "인적사항_지역별 구분, 이용건수\n",
      "서울          84\n",
      "경기          22\n",
      "부산 울산 경남    18\n",
      "대전 세종 충남     7\n",
      "대구 경북        5\n",
      "인천           1\n",
      "Name: 지역, dtype: int64\n",
      "서울          0.613139\n",
      "경기          0.160584\n",
      "부산 울산 경남    0.131387\n",
      "대전 세종 충남    0.051095\n",
      "대구 경북       0.036496\n",
      "인천          0.007299\n",
      "Name: 지역, dtype: float64\n",
      "\n",
      "인적사항_직급별 구분, 이용인원\n",
      "L1    19\n",
      "L2    16\n",
      "L3     9\n",
      "L0     7\n",
      "기타     4\n",
      "Name: 직급, dtype: int64\n",
      "L1    0.345455\n",
      "L2    0.290909\n",
      "L3    0.163636\n",
      "L0    0.127273\n",
      "기타    0.072727\n",
      "Name: 직급, dtype: float64\n",
      "\n",
      "인적사항_직급별 구분, 이용건수\n",
      "L2    51\n",
      "L1    40\n",
      "L3    22\n",
      "기타    14\n",
      "L0    10\n",
      "Name: 직급, dtype: int64\n",
      "L2    0.372263\n",
      "L1    0.291971\n",
      "L3    0.160584\n",
      "기타    0.102190\n",
      "L0    0.072993\n",
      "Name: 직급, dtype: float64\n",
      "\n"
     ]
    }
   ],
   "source": [
    "print(\"인적사항_성별 구분, 이용인원\")\n",
    "print(df_people['성별'].value_counts())\n",
    "print(df_people['성별'].value_counts(normalize = True))\n",
    "print('')\n",
    "print(\"인적사항_성별 구분, 이용건수\")\n",
    "print(df['성별'].value_counts())\n",
    "print(df['성별'].value_counts(normalize = True))\n",
    "print('')\n",
    "print(\"인적사항_연령별 구분, 이용인원\")\n",
    "print(df_people['연령'].value_counts())\n",
    "print(df_people['연령'].value_counts(normalize = True))\n",
    "print('')\n",
    "print(\"인적사항_연령별 구분, 이용건수\")\n",
    "print(df['연령'].value_counts())\n",
    "print(df['연령'].value_counts(normalize = True))\n",
    "print('')\n",
    "print(\"인적사항_상담이용대상별 구분, 이용인원\")\n",
    "print(df_people['상담이용대상'].value_counts())\n",
    "print(df_people['상담이용대상'].value_counts(normalize = True))\n",
    "print('')\n",
    "print(\"인적사항_상담이용대상별, 이용건수\")\n",
    "print(df['상담이용대상'].value_counts())\n",
    "print(df['상담이용대상'].value_counts(normalize = True))\n",
    "print('')\n",
    "print(\"인적사항_직위별 구분, 이용인원\")\n",
    "print(df_people['직위'].value_counts())\n",
    "print(df_people['직위'].value_counts(normalize = True))\n",
    "print('')\n",
    "print(\"인적사항_직위별 구분, 이용건수\")\n",
    "print(df['직위'].value_counts())\n",
    "print(df['직위'].value_counts(normalize = True))\n",
    "print('')\n",
    "print(\"인적사항_지역별 구분, 이용인원\")\n",
    "print(df_people['지역'].value_counts())\n",
    "print(df_people['지역'].value_counts(normalize = True))\n",
    "print('')\n",
    "print(\"인적사항_지역별 구분, 이용건수\")\n",
    "print(df['지역'].value_counts())\n",
    "print(df['지역'].value_counts(normalize = True))\n",
    "print('')\n",
    "print(\"인적사항_직급별 구분, 이용인원\")\n",
    "print(df_people['직급'].value_counts())\n",
    "print(df_people['직급'].value_counts(normalize = True))\n",
    "print('')\n",
    "print(\"인적사항_직급별 구분, 이용건수\")\n",
    "print(df['직급'].value_counts())\n",
    "print(df['직급'].value_counts(normalize = True))\n",
    "print('')"
   ]
  },
  {
   "cell_type": "markdown",
   "id": "3988285f",
   "metadata": {},
   "source": [
    "# 4. 상담 진행 내용"
   ]
  },
  {
   "cell_type": "markdown",
   "id": "e0f77e43",
   "metadata": {},
   "source": [
    "## 1) 상담 분야별 구분"
   ]
  },
  {
   "cell_type": "code",
   "execution_count": 9,
   "id": "7fb12668",
   "metadata": {},
   "outputs": [
    {
     "name": "stdout",
     "output_type": "stream",
     "text": [
      "[이용인원] : 55\n",
      "자녀         32\n",
      "우울          8\n",
      "업무스트레스      3\n",
      "배우자         3\n",
      "원가족         2\n",
      "기타          2\n",
      "스트레스관리      2\n",
      "성격          1\n",
      "조직내관계갈등     1\n",
      "대인관계        1\n",
      "Name: 상담분야, dtype: int64\n",
      "자녀         0.581818\n",
      "우울         0.145455\n",
      "업무스트레스     0.054545\n",
      "배우자        0.054545\n",
      "원가족        0.036364\n",
      "기타         0.036364\n",
      "스트레스관리     0.036364\n",
      "성격         0.018182\n",
      "조직내관계갈등    0.018182\n",
      "대인관계       0.018182\n",
      "Name: 상담분야, dtype: float64\n"
     ]
    }
   ],
   "source": [
    "print('[이용인원] :',len(df_people['내담자명']))\n",
    "print(df_people['상담분야'].value_counts())\n",
    "print(df_people['상담분야'].value_counts(normalize = True))"
   ]
  },
  {
   "cell_type": "code",
   "execution_count": 10,
   "id": "61f3b282",
   "metadata": {},
   "outputs": [
    {
     "name": "stdout",
     "output_type": "stream",
     "text": [
      "[이용건수] :  137\n",
      "자녀         81\n",
      "우울         12\n",
      "업무스트레스     11\n",
      "배우자        10\n",
      "원가족         7\n",
      "기타          5\n",
      "스트레스관리      4\n",
      "조직내관계갈등     3\n",
      "대인관계        3\n",
      "성격          1\n",
      "Name: 상담분야, dtype: int64\n",
      "자녀         0.591241\n",
      "우울         0.087591\n",
      "업무스트레스     0.080292\n",
      "배우자        0.072993\n",
      "원가족        0.051095\n",
      "기타         0.036496\n",
      "스트레스관리     0.029197\n",
      "조직내관계갈등    0.021898\n",
      "대인관계       0.021898\n",
      "성격         0.007299\n",
      "Name: 상담분야, dtype: float64\n"
     ]
    }
   ],
   "source": [
    "print(\"[이용건수] : \", len(df['내담자명']))\n",
    "print(df['상담분야'].value_counts())\n",
    "print(df['상담분야'].value_counts(normalize = True))"
   ]
  },
  {
   "cell_type": "markdown",
   "id": "c15f97b5",
   "metadata": {},
   "source": [
    "## 2) 상담회기별 이용 인원"
   ]
  },
  {
   "cell_type": "code",
   "execution_count": 11,
   "id": "22a3a25f",
   "metadata": {
    "scrolled": true
   },
   "outputs": [
    {
     "name": "stdout",
     "output_type": "stream",
     "text": [
      "1) ### 회기별 분류\n",
      "합계 : 55\n",
      "1회차    18\n",
      "2회차    14\n",
      "3회차    13\n",
      "4회차     6\n",
      "6회차     2\n",
      "5회차     1\n",
      "7회차     1\n",
      "Name: 상담회차, dtype: int64\n",
      "1회차    0.327273\n",
      "2회차    0.254545\n",
      "3회차    0.236364\n",
      "4회차    0.109091\n",
      "6회차    0.036364\n",
      "5회차    0.018182\n",
      "7회차    0.018182\n",
      "Name: 상담회차, dtype: float64\n",
      "\n",
      "2) ### 상담이용경로\n",
      "합계 : 55\n",
      "기타        41\n",
      "전행공지      13\n",
      "이용직원추천     1\n",
      "Name: 상담이용경로(정보출처), dtype: int64\n",
      "기타        0.745455\n",
      "전행공지      0.236364\n",
      "이용직원추천    0.018182\n",
      "Name: 상담이용경로(정보출처), dtype: float64\n",
      "\n",
      "3) ### 상담신청경로\n",
      "합계 : 55\n",
      "홍보레터           32\n",
      "기타CUSCUS099    18\n",
      "지인추천            3\n",
      "프로그램            1\n",
      "설명회             1\n",
      "Name: 상담신청경로, dtype: int64\n",
      "홍보레터           0.581818\n",
      "기타CUSCUS099    0.327273\n",
      "지인추천           0.054545\n",
      "프로그램           0.018182\n",
      "설명회            0.018182\n",
      "Name: 상담신청경로, dtype: float64\n",
      "\n"
     ]
    }
   ],
   "source": [
    "print(\"1) ### 회기별 분류\")\n",
    "print('합계 :',len(df_people['상담회차']))\n",
    "print(df_people['상담회차'].value_counts())\n",
    "print(df_people['상담회차'].value_counts(normalize = True))\n",
    "print(\"\")\n",
    "\n",
    "\n",
    "print(\"2) ### 상담이용경로\")\n",
    "print('합계 :',len(df_people['상담이용경로(정보출처)']))\n",
    "print(df_people['상담이용경로(정보출처)'].value_counts())\n",
    "print(df_people['상담이용경로(정보출처)'].value_counts(normalize = True))\n",
    "print(\"\")\n",
    "\n",
    "print(\"3) ### 상담신청경로\")\n",
    "print('합계 :',len(df_people['상담신청경로']))\n",
    "print(df_people['상담신청경로'].value_counts())\n",
    "print(df_people['상담신청경로'].value_counts(normalize = True))\n",
    "print(\"\")"
   ]
  },
  {
   "cell_type": "code",
   "execution_count": 12,
   "id": "05a69edb",
   "metadata": {},
   "outputs": [
    {
     "name": "stdout",
     "output_type": "stream",
     "text": [
      "이용인원 : 55\n",
      "[이용인원에 따른 상담방법]\n",
      " 대면    53\n",
      "전화     1\n",
      "화상     1\n",
      "Name: 상담방법, dtype: int64\n",
      "이용건수 :  137\n",
      "[이용건수에 따른 상담방법]\n",
      " 대면    135\n",
      "전화      1\n",
      "화상      1\n",
      "Name: 상담방법, dtype: int64\n"
     ]
    }
   ],
   "source": [
    "print('이용인원 :',len(df_people['내담자명']))\n",
    "print('[이용인원에 따른 상담방법]' '\\n', df_people['상담방법'].value_counts())\n",
    "\n",
    "print(\"이용건수 : \", len(df['내담자명']))\n",
    "print(\"[이용건수에 따른 상담방법]\" '\\n', df['상담방법'].value_counts())"
   ]
  },
  {
   "cell_type": "code",
   "execution_count": 22,
   "id": "7475726b",
   "metadata": {},
   "outputs": [
    {
     "ename": "SyntaxError",
     "evalue": "invalid syntax (<ipython-input-22-fc2c5fda9563>, line 20)",
     "output_type": "error",
     "traceback": [
      "\u001b[1;36m  File \u001b[1;32m\"<ipython-input-22-fc2c5fda9563>\"\u001b[1;36m, line \u001b[1;32m20\u001b[0m\n\u001b[1;33m    df_price = df_price[df_price['내담자명'] = 1]\u001b[0m\n\u001b[1;37m                                         ^\u001b[0m\n\u001b[1;31mSyntaxError\u001b[0m\u001b[1;31m:\u001b[0m invalid syntax\n"
     ]
    }
   ],
   "source": [
    "df_price = pd.read_excel(\"C:\\workshop\\data\\국민은행 일반_1월 데이터.xlsx\", header = 1)\n",
    "\n",
    "df_price = df_price.loc[:,['내담자명', '상담주제', '상담이용대상', '상담회차', '상담날짜', '상담시작시간', '상담종료시간', '진행시간', '참석여부', \n",
    "           '상담방법', '상담사', '대표자격증', '(대표자격증) 급수', '소속기관', '상담일지등록일']\n",
    "           ]\n",
    "#nan값 있는 0번째 인덱스 행 지우기 \n",
    "df_price = df_price.drop(index = 0, axis = 0)\n",
    "\n",
    "#상담일지 등록일을 기준으로 월보고를 작성한다. (확인필요)\n",
    "#먼저 날짜 컬럼을 스트링으로 변경한다. \n",
    "df_price['상담일지등록일']= df_price['상담일지등록일'].astype('str')\n",
    "#0000-00-00형식의 날짜로 변환한다. \n",
    "df_price['상담일지등록일'] = pd.to_datetime(df_price['상담일지등록일'],format='%Y-%m-%d')\n",
    "#해당 날짜에 해당하는 값들 추출한다. \n",
    "df_price = df_price[df_price['상담일지등록일'].between('2022-01-01', '2022-01-31')]\n",
    "\n",
    "df_price.insert(0, '구분', '연계')\n",
    "df_price.insert(2, '인원', 1)\n",
    "# df_price.insert(-1, '비고')"
   ]
  },
  {
   "cell_type": "code",
   "execution_count": 24,
   "id": "d2319ba1",
   "metadata": {},
   "outputs": [
    {
     "ename": "SyntaxError",
     "evalue": "invalid syntax (<ipython-input-24-a730e4634f67>, line 1)",
     "output_type": "error",
     "traceback": [
      "\u001b[1;36m  File \u001b[1;32m\"<ipython-input-24-a730e4634f67>\"\u001b[1;36m, line \u001b[1;32m1\u001b[0m\n\u001b[1;33m    df_price[df_price['내담자명'] = 1\u001b[0m\n\u001b[1;37m                              ^\u001b[0m\n\u001b[1;31mSyntaxError\u001b[0m\u001b[1;31m:\u001b[0m invalid syntax\n"
     ]
    }
   ],
   "source": [
    "df_price[df_price['내담자명'] = 1"
   ]
  },
  {
   "cell_type": "code",
   "execution_count": 14,
   "id": "f2285a87",
   "metadata": {},
   "outputs": [
    {
     "ename": "SyntaxError",
     "evalue": "invalid syntax (<ipython-input-14-d6a09f1fe24c>, line 5)",
     "output_type": "error",
     "traceback": [
      "\u001b[1;36m  File \u001b[1;32m\"<ipython-input-14-d6a09f1fe24c>\"\u001b[1;36m, line \u001b[1;32m5\u001b[0m\n\u001b[1;33m    sheet.cell(row = 1, column = a+1).value = 'df_people['상담방법'].value_counts()'\u001b[0m\n\u001b[1;37m                                                          ^\u001b[0m\n\u001b[1;31mSyntaxError\u001b[0m\u001b[1;31m:\u001b[0m invalid syntax\n"
     ]
    }
   ],
   "source": [
    "import openpyxl\n",
    "wb = openpyxl.Workbook()\n",
    "sheet = wb.active\n",
    "for a in range(3):\n",
    "    sheet.cell(row = 1, column = a+1).value = 'df_people['상담방법'].value_counts()'\n",
    "    wb.save('test')\n",
    "    \n",
    "    "
   ]
  }
 ],
 "metadata": {
  "kernelspec": {
   "display_name": "Python 3",
   "language": "python",
   "name": "python3"
  },
  "language_info": {
   "codemirror_mode": {
    "name": "ipython",
    "version": 3
   },
   "file_extension": ".py",
   "mimetype": "text/x-python",
   "name": "python",
   "nbconvert_exporter": "python",
   "pygments_lexer": "ipython3",
   "version": "3.8.8"
  }
 },
 "nbformat": 4,
 "nbformat_minor": 5
}
